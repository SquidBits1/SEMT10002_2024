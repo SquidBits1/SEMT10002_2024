{
 "cells": [
  {
   "cell_type": "markdown",
   "metadata": {},
   "source": [
    "# Loops\n",
    "\n",
    "This week, we will introduce *loops* that enable us to use sections of code repeatedly to perform iterative operations.\n",
    "\n",
    "## Recap\n",
    "\n",
    "From previous weeks, you should recall:\n",
    "\n",
    "- using `if` `elif` and `else` statements to switch sections of code in or out\n",
    "- constucting logical tests for `if` and `elif` statements such as `a>=b`\n",
    "- how the ordering of the tests mattered, for correctness and efficiency\n",
    "- using *indenting* to tell Python which code was connected to the `if` statement\n",
    "\n",
    "Example:"
   ]
  },
  {
   "cell_type": "code",
   "execution_count": 1,
   "metadata": {},
   "outputs": [
    {
     "name": "stdout",
     "output_type": "stream",
     "text": [
      "a is large positive\n"
     ]
    }
   ],
   "source": [
    "a = 45\n",
    "if a>30:\n",
    "    print('a is large positive')\n",
    "elif a>0:\n",
    "    print('a is strictly positive')\n",
    "else:\n",
    "    print('a is negative or zero')"
   ]
  },
  {
   "cell_type": "markdown",
   "metadata": {},
   "source": [
    "## Getting started\n",
    "\n",
    "Either:\n",
    "\n",
    "- Click [this link](https://colab.research.google.com/github/engmaths/SEMT10002_2024/blob/main/weekly_labs/Week_04_Loops/week_04_loops.ipynb) to open this notebook in Google colab.  You'll need to sign in with a Google account before you can run it.  When you do, hit `Ctrl+F9` to check it all runs.\n",
    "\n",
    "or\n",
    "\n",
    "- Download it to your local computer using `git clone https://github.com/engmaths/SEMT10002_2024` or just use `git pull` to refresh if you've done this already.\n",
    "- Navigate to the subfolder `weekly_labs/Week_03_Flow/` and open the notebook `week_03_flow.ipynb`.  For example, in Visual Studio Code, use `Ctrl+K Ctrl+O` to open a folder and select the folder just mentioned.  Then you can open the notebook file by clicking on it in the left hand explorer sidebar."
   ]
  },
  {
   "cell_type": "markdown",
   "metadata": {},
   "source": [
    "## Introducing loops\n",
    "\n",
    "There are basically two types of loops:\n",
    "\n",
    "- `for` loops that repeat some statements for a defined number of times\n",
    "- `while` loops that repeat some statements as long as a given condition is `True`\n",
    "\n",
    "(This is a simplified categorization, as either Python syntax can be used for either purpose with a bit of working around... but it's ugly, and the division above is consistent with standard programming practice, and what you'll find in every language since programming began.)"
   ]
  },
  {
   "cell_type": "markdown",
   "metadata": {},
   "source": [
    "## `for` loops - iterating a fixed number of times\n",
    "\n",
    "Maybe your robot has eight identical range sensors and you need to read each one in turn?  Or you want to run a fixed number of training steps on your neural network.  Typically this is the job of a `for` loop as shown in the example below:"
   ]
  },
  {
   "cell_type": "code",
   "execution_count": 2,
   "metadata": {},
   "outputs": [
    {
     "name": "stdout",
     "output_type": "stream",
     "text": [
      "Step\n",
      "ii is 0\n",
      "Step\n",
      "ii is 1\n",
      "Step\n",
      "ii is 2\n",
      "Step\n",
      "ii is 3\n",
      "Step\n",
      "ii is 4\n",
      "Step\n",
      "ii is 5\n",
      "Step\n",
      "ii is 6\n",
      "Step\n",
      "ii is 7\n",
      "Step\n",
      "ii is 8\n",
      "Step\n",
      "ii is 9\n",
      "Finished\n"
     ]
    }
   ],
   "source": [
    "for ii in range(10):\n",
    "    print('Step')\n",
    "    print('ii is', ii)\n",
    "print('Finished')"
   ]
  },
  {
   "cell_type": "markdown",
   "metadata": {},
   "source": [
    "Comments on the anatomy of a `for `loop:\n",
    " - `ii` is the *loop counter* variable.  It keeps track of which iteration we are on.\n",
    " - The indented bit after the `for` statement identifies the statements that will be repeated.\n",
    " - You can read the loop counter in the loop, but don't change it, as that will mess up the count.\n",
    " - Python always counts from zero, so for 10 iterations, the counter goes from 0 to 9.\n",
    "\n",
    "(For historial reasons I often use `ii` and `jj` _etc._ as loop counters because algorithms are often presented with $i$ as the step index, and I use `ii` to avoid confusion with complex numbers.  You can use any variable name that suits your style.)"
   ]
  },
  {
   "cell_type": "markdown",
   "metadata": {},
   "source": [
    "### Summation example\n",
    "\n",
    "Now let's use a `for` loop to add up all the numbers from 1 to $n$."
   ]
  },
  {
   "cell_type": "code",
   "execution_count": 3,
   "metadata": {},
   "outputs": [
    {
     "name": "stdout",
     "output_type": "stream",
     "text": [
      "Sum from 1 to 20 is 210\n",
      "Formula gives 210.0\n"
     ]
    }
   ],
   "source": [
    "max_num = 20 # change from 1 to 100\n",
    "my_sum = 0\n",
    "for ii in range(max_num):\n",
    "    # counter ii will run 0 to 9\n",
    "    # so for 1 to 10, use ii+1\n",
    "    my_sum = my_sum + (ii+1)\n",
    "print('Sum from',1,'to',max_num,'is',my_sum)\n",
    "\n",
    "# check that with the formula\n",
    "sum_formula = 0.5*max_num*(max_num+1)\n",
    "print('Formula gives', sum_formula)"
   ]
  },
  {
   "cell_type": "markdown",
   "metadata": {},
   "source": [
    "Comments on this example:\n",
    "\n",
    "- No problem making the number of iterations a variable - the number of iterations is still known at the time you begin looping\n",
    "- Notive the new role of the variable `my_sum` which gets updated with each iteration but holds its value over to the next.  Think of this as an accummulator.  Notice you need to _initialize_ it with `my_sum=0` before the loop, so that the first iteration can read from it.  See what happens if you comment out that line?"
   ]
  },
  {
   "cell_type": "markdown",
   "metadata": {},
   "source": [
    "### Series example - approximating cosine\n",
    "\n",
    "Time to make a loop do some work - the example below approximates the cosine function by using its Taylor series\n",
    "\n",
    "$\\cos(\\theta) \\approx 1 - \\frac{\\theta^2}{2!} + \\frac{\\theta^4}{4!} - \\frac{\\theta^6}{6!} \\ldots$\n",
    "\n",
    "or in more general terms\n",
    "\n",
    "$\\cos(\\theta) \\approx \\sum_i (-1)^i \\frac{\\theta^{2i}}{(2i)!}$\n",
    "\n",
    "The example below implements this series.\n",
    "\n",
    "> Play around with the number of iterations and see the effects."
   ]
  },
  {
   "cell_type": "code",
   "execution_count": 4,
   "metadata": {},
   "outputs": [
    {
     "name": "stdout",
     "output_type": "stream",
     "text": [
      "Estimate of cos theta is -0.029199522301293857\n",
      "Checking against built-in value: -0.029199522301288815\n"
     ]
    }
   ],
   "source": [
    "theta = 1.6 # change to different values (in radians)\n",
    "\n",
    "cos_theta = 0\n",
    "for ii in range(10):\n",
    "    # first calculate the (2i)! factorial, noting the awkward 0!=1 case\n",
    "    if ii==0:\n",
    "        factorial = 1\n",
    "    else:\n",
    "        factorial = 1\n",
    "        for jj in range(2*ii):\n",
    "            factorial = factorial*(jj+1)\n",
    "    cos_theta = cos_theta + ((-1)**ii)*(theta**(2*ii))/factorial\n",
    "print('Estimate of cos theta is',cos_theta)\n",
    "\n",
    "from math import cos\n",
    "print('Checking against built-in value:',cos(theta))"
   ]
  },
  {
   "cell_type": "markdown",
   "metadata": {},
   "source": [
    "Note you can nest `if`, `else` and `for` inside each other.  Here we have an `if` statement inside the outer `for` loop to catch the weird $0!=1$ case and then an inner `for` loop inside the `else` clause to calculate the other factorials."
   ]
  },
  {
   "cell_type": "markdown",
   "metadata": {},
   "source": [
    "## `while` loops - iterating as long as needed\n",
    "\n",
    "Imagine you're searching for the minimum value of some function or trying to refine an estimate of something to a given precision.  You probably won't know exactly how many iterations that will take.  Instead, you can use a `while` loop to keep going as long as some condition is `True`.\n",
    "\n",
    "(Of course, with this type of loop, we have to worry if that will _ever_ be true - will it finish, or will our code just run forever?  That's quite a big question, but happily with some practical solutions.  Watch this space.)"
   ]
  },
  {
   "cell_type": "markdown",
   "metadata": {},
   "source": [
    "### Simple example\n",
    "\n",
    "Let's multiple by two until we get bigger than a certain size."
   ]
  },
  {
   "cell_type": "code",
   "execution_count": 5,
   "metadata": {},
   "outputs": [
    {
     "name": "stdout",
     "output_type": "stream",
     "text": [
      "0.6\n",
      "1.2\n",
      "2.4\n",
      "4.8\n",
      "9.6\n",
      "19.2\n",
      "38.4\n",
      "76.8\n",
      "153.6\n",
      "307.2\n",
      "614.4\n",
      "1228.8\n",
      "2457.6\n",
      "4915.2\n",
      "9830.4\n",
      "19660.8\n",
      "39321.6\n",
      "78643.2\n",
      "157286.4\n",
      "Finished\n"
     ]
    }
   ],
   "source": [
    "value = 0.3\n",
    "while value<100000: # try changing < for !=\n",
    "    value = value*2\n",
    "    print(value)\n",
    "print('Finished')"
   ]
  },
  {
   "cell_type": "markdown",
   "metadata": {},
   "source": [
    "Comments:\n",
    " - Again the indent defines the stuff to iterate.\n",
    " - We always need something like an accummulator to keep track of progress.  Unlike `for`, `while` doesn't give us a free counter.\n",
    "\n",
    " > Try changing the _less than_ to be _not equal to_ and see what happens.  Use the little square button to the left of the cell if you need to interrupt the code."
   ]
  },
  {
   "cell_type": "markdown",
   "metadata": {},
   "source": [
    "### Bisection search - finding square roots with `while`\n",
    "\n",
    "Bisection search is a simple way of finding roots of a function $f(x)=0$ by narrowing down on where the function crosses zero from either side.  To keep the code simple, we'll try and solve $x^2-z=0$ for $x$ given $z$, which means finding the square root of $z$.  The algorithm is:\n",
    "\n",
    "1. Choose an interval $[L,U]$ such that $L<U$ and $L^2<z<U^2$.  Then the square root $\\sqrt{z}$ is between $L$ and $U$.\n",
    "2. Evaluate new point in the middle of the interval $M=\\frac{1}{2}(L+U)$ and calculate $M^2$.\n",
    "3. - If $M^2>z$ then set $U$ equal to $M$, i.e. $M$ is a better upper bound.\n",
    "   - If $M^2<z$ then set $L$ equal to $M$, i.e. $M$ is a better lower bound.\n",
    "4. Now we have a smaller interval $[L,U]$ such that square root $\\sqrt{z}$ is between $L$ and $U$.  Repeat from 2.\n",
    "\n",
    "Here we'll use a `while` loop to run iterations until the interval is smaller than a given size, meaning that we have found the square root to a specified tolerance."
   ]
  },
  {
   "cell_type": "code",
   "execution_count": 6,
   "metadata": {},
   "outputs": [
    {
     "name": "stdout",
     "output_type": "stream",
     "text": [
      "Interval is [ 0 , 100 ]\n",
      "Interval is [ 0 , 50.0 ]\n",
      "Interval is [ 0 , 25.0 ]\n",
      "Interval is [ 0 , 12.5 ]\n",
      "Interval is [ 0 , 6.25 ]\n",
      "Interval is [ 0 , 3.125 ]\n",
      "Interval is [ 1.5625 , 3.125 ]\n",
      "Interval is [ 2.34375 , 3.125 ]\n",
      "Interval is [ 2.734375 , 3.125 ]\n",
      "Interval is [ 2.9296875 , 3.125 ]\n",
      "Interval is [ 2.9296875 , 3.02734375 ]\n",
      "Interval is [ 2.978515625 , 3.02734375 ]\n",
      "Interval is [ 2.978515625 , 3.0029296875 ]\n",
      "Interval is [ 2.99072265625 , 3.0029296875 ]\n",
      "Interval is [ 2.996826171875 , 3.0029296875 ]\n",
      "Interval is [ 2.9998779296875 , 3.0029296875 ]\n",
      "Interval is [ 2.9998779296875 , 3.00140380859375 ]\n",
      "Interval is [ 2.9998779296875 , 3.000640869140625 ]\n",
      "Interval is [ 2.9998779296875 , 3.0002593994140625 ]\n",
      "Interval is [ 2.9998779296875 , 3.0000686645507812 ]\n",
      "Interval is [ 2.9999732971191406 , 3.0000686645507812 ]\n",
      "Interval is [ 2.9999732971191406 , 3.000020980834961 ]\n",
      "Interval is [ 2.999997138977051 , 3.000020980834961 ]\n",
      "Interval is [ 2.999997138977051 , 3.000009059906006 ]\n",
      "Interval is [ 2.999997138977051 , 3.0000030994415283 ]\n",
      "Interval is [ 2.999997138977051 , 3.0000001192092896 ]\n",
      "Interval is [ 2.99999862909317 , 3.0000001192092896 ]\n"
     ]
    }
   ],
   "source": [
    "z = 9\n",
    "tol = 1e-6\n",
    "\n",
    "# guesses\n",
    "lower_x = 0\n",
    "upper_x = 100\n",
    "\n",
    "while upper_x - lower_x > tol:\n",
    "    print('Interval is [',lower_x,',',upper_x,']')\n",
    "    new_x = 0.5*(upper_x+lower_x)\n",
    "    if new_x**2>z:\n",
    "        upper_x = new_x\n",
    "    else:\n",
    "        lower_x = new_x\n"
   ]
  },
  {
   "cell_type": "markdown",
   "metadata": {},
   "source": [
    "## Using `break` to have multiple stopping conditions\n",
    "\n",
    "Recall the discussion earlier about searching for something that might not be there.  To combat this, many practical algorithm implementations have a mixture of stopping conditions: either you find what you're looking for, or you give up after an upper limit on iterations.\n",
    "\n",
    "The `break` statement will immediately stop and jump out of any loop.  A typical arrangement is shown below, using a `for` loop to implement a fixed number of iterations, but including an early termination option through `break` if you find what you want.  \n",
    "\n",
    "In the example below, we use a simple 1-D _steepest descent_ optimizer to search for the minimizing point of a function $f(x) = x^2 + 5$.  The algorithm in words is:\n",
    "1. Compute gradient $\\nabla f = \\frac{df}{dx}$\n",
    "2. If gradient is sufficiently small, stop\n",
    "2. Evaluate new trial value $x' = x - \\alpha \\nabla f$ where $\\alpha$ is a step length parameter\n",
    "3. Evaluate trial objective $f(x')$\n",
    "4. If objective improved _i.e._ $f(x')<f(x)$ then accept the new value $x'$, otherwise reject it and reduce step length $\\alpha$ by half. \n"
   ]
  },
  {
   "cell_type": "code",
   "execution_count": 7,
   "metadata": {},
   "outputs": [
    {
     "name": "stdout",
     "output_type": "stream",
     "text": [
      "Iteration 0 \tx is -30.0 \tf(x) is 905.0 \tgradient is -60.0 \t step length is 3\n",
      "Iteration 1 \tx is -30.0 \tf(x) is 905.0 \tgradient is -60.0 \t step length is 1.5\n",
      "Iteration 2 \tx is -30.0 \tf(x) is 905.0 \tgradient is -60.0 \t step length is 0.75\n",
      "Iteration 3 \tx is 15.0 \tf(x) is 230.0 \tgradient is 30.0 \t step length is 0.75\n",
      "Iteration 4 \tx is -7.5 \tf(x) is 61.25 \tgradient is -15.0 \t step length is 0.75\n",
      "Iteration 5 \tx is 3.75 \tf(x) is 19.0625 \tgradient is 7.5 \t step length is 0.75\n",
      "Iteration 6 \tx is -1.875 \tf(x) is 8.515625 \tgradient is -3.75 \t step length is 0.75\n",
      "Iteration 7 \tx is 0.9375 \tf(x) is 5.87890625 \tgradient is 1.875 \t step length is 0.75\n",
      "Iteration 8 \tx is -0.46875 \tf(x) is 5.2197265625 \tgradient is -0.9375 \t step length is 0.75\n",
      "Iteration 9 \tx is 0.234375 \tf(x) is 5.054931640625 \tgradient is 0.46875 \t step length is 0.75\n",
      "Iteration 10 \tx is -0.1171875 \tf(x) is 5.01373291015625 \tgradient is -0.234375 \t step length is 0.75\n",
      "Iteration 11 \tx is 0.05859375 \tf(x) is 5.0034332275390625 \tgradient is 0.1171875 \t step length is 0.75\n",
      "Iteration 12 \tx is -0.029296875 \tf(x) is 5.000858306884766 \tgradient is -0.05859375 \t step length is 0.75\n",
      "Iteration 13 \tx is 0.0146484375 \tf(x) is 5.000214576721191 \tgradient is 0.029296875 \t step length is 0.75\n",
      "Iteration 14 \tx is -0.00732421875 \tf(x) is 5.000053644180298 \tgradient is -0.0146484375 \t step length is 0.75\n",
      "Iteration 15 \tx is 0.003662109375 \tf(x) is 5.0000134110450745 \tgradient is 0.00732421875 \t step length is 0.75\n",
      "Iteration 16 \tx is -0.0018310546875 \tf(x) is 5.000003352761269 \tgradient is -0.003662109375 \t step length is 0.75\n",
      "Iteration 17 \tx is 0.00091552734375 \tf(x) is 5.000000838190317 \tgradient is 0.0018310546875 \t step length is 0.75\n",
      "Iteration 18 \tx is -0.000457763671875 \tf(x) is 5.000000209547579 \tgradient is -0.00091552734375 \t step length is 0.75\n",
      "Stopping\n"
     ]
    }
   ],
   "source": [
    "x = -30.0\n",
    "f_x = x**2 + 5.0\n",
    "\n",
    "step_length = 3\n",
    "stop_tol = 0.001\n",
    "\n",
    "for ii in range(100):\n",
    "    grad_x = 2*x\n",
    "    print('Iteration',ii,'\\tx is',x,'\\tf(x) is',f_x,'\\tgradient is',grad_x,'\\t step length is',step_length)\n",
    "    if grad_x < stop_tol and grad_x > -stop_tol:\n",
    "        print('Stopping')\n",
    "        break\n",
    "    new_x = x - step_length*grad_x\n",
    "    new_f = new_x**2 + 5.0\n",
    "    if new_f < f_x:\n",
    "        x = new_x\n",
    "        f_x = new_f\n",
    "    else:\n",
    "        step_length = 0.5*step_length\n"
   ]
  },
  {
   "cell_type": "markdown",
   "metadata": {},
   "source": [
    "## Portfolio assignment - solving Kepler's Equation with `for`\n",
    "\n",
    "If you're trying to rendezvous with a space station, it helps to know where it is, at any given time.  Sadly that's not straightforward, as it's governed by Kepler's equation:\n",
    "\n",
    "$M = E - e sinE$\n",
    "\n",
    "$M = \\frac{2\\pi(t-t_0)}{T}$ is the _mean anomaly_ that takes time since lowest altitude and coverts it to an angle.  $E$ is the _eccentric anomaly_ that tells you where you actually are on the orbit ellipse... so you need to find $E$ given $M$.  But you can't re-arrange this to anything usable of the form $E=\\ldots$, so it needs solving numerically.\n",
    "\n",
    "Step forward _fixed point iteration_ which aims to find an $x$ such that $f(x)=x$ _i.e._ the fixed point of function $f$, where the \"output\" of $f$ is unchanged from its \"input\".  The algorithm is:\n",
    "1. Guess an $x$\n",
    "2. Calculate $f(x)$\n",
    "3. Set $x$ equal to $f(x)$.\n",
    "4. Repeat from 2.\n",
    "Think about it: if it ever converges such that $x$ stops changing, you have found a fixed point.\n",
    "\n",
    "Here we'll use a `for` loop to iterate for a fixed number of times.\n",
    "\n",
    "> Re-arrange Kepler's equation into the form $E = f(E)$ and implement it over `???` in the code below.  Also implement the loop with sufficient iterations to converge to within 0.01% of the mean anomaly. \n",
    "\n",
    "> Optional extra: implement an early stopping criterion for the tolerance and test with multiple values of $M$."
   ]
  },
  {
   "cell_type": "code",
   "execution_count": 2,
   "metadata": {},
   "outputs": [
    {
     "name": "stdout",
     "output_type": "stream",
     "text": [
      "Mean anomaly M is 1.54\n",
      "Eccentricity e is 0.3\n",
      "Iteration ? value of E 1.54\n",
      "Iteration ? value of E 1.54\n",
      "Iteration ? value of E 1.54\n",
      "Eccentric anomaly E is 1.54\n",
      "E - e sin E is 1.2401422508183564\n"
     ]
    }
   ],
   "source": [
    "from math import sin\n",
    "\n",
    "M = 1.54\n",
    "e = 0.3\n",
    "print('Mean anomaly M is',M)\n",
    "print('Eccentricity e is',e)\n",
    "\n",
    "# guess\n",
    "E = M\n",
    "\n",
    "for ii in '???':\n",
    "    '???'\n",
    "    print('Iteration',ii,'value of E',E)\n",
    "print('Eccentric anomaly E is',E)\n",
    "print('E - e sin E is', E - e*sin(E))"
   ]
  },
  {
   "cell_type": "markdown",
   "metadata": {},
   "source": [
    "#### Test and submit\n",
    "\n",
    "Before submitting, download the following two files to Colab (or save from github if you're working locally).  One is a template for your `kepler.py` to be submitted and the other is a test script."
   ]
  },
  {
   "cell_type": "code",
   "execution_count": 1,
   "metadata": {},
   "outputs": [],
   "source": [
    "import sys\n",
    "if 'google.colab' in sys.modules:\n",
    "    !wget https://raw.githubusercontent.com/engmaths/SEMT10002_2024/refs/heads/main/weekly_labs/Week_04_Loops/kepler.py\n",
    "    !wget https://raw.githubusercontent.com/engmaths/SEMT10002_2024/refs/heads/main/weekly_labs/Week_04_Loops/test_kepler.py"
   ]
  },
  {
   "cell_type": "markdown",
   "metadata": {},
   "source": [
    "Either use a terminal or the cell below to run your `kepler.py` and make sure it runs."
   ]
  },
  {
   "cell_type": "code",
   "execution_count": 10,
   "metadata": {},
   "outputs": [
    {
     "name": "stdout",
     "output_type": "stream",
     "text": [
      "Mean anomaly M is 1.54\n",
      "Eccentricity e is 0.3\n",
      "Eccentric anomaly E is 1.54\n"
     ]
    }
   ],
   "source": [
    "%run kepler.py"
   ]
  },
  {
   "cell_type": "markdown",
   "metadata": {},
   "source": [
    "And use the following to test it.  If you don't get any errors, and you try it for some different numbers, you're all set."
   ]
  },
  {
   "cell_type": "code",
   "execution_count": 11,
   "metadata": {},
   "outputs": [
    {
     "name": "stdout",
     "output_type": "stream",
     "text": [
      "Running Python script kepler.py\n",
      "Script ran OK\n",
      "Got mean anomaly 1.54 from line Mean anomaly M is 1.54\n",
      "Got eccentricity 0.3 from line Eccentricity e is 0.3\n",
      "Got eccentric anomaly 1.54 from line Eccentric anomaly E is 1.54\n",
      "Got all the data we needed\n",
      "M is 1.54\n",
      "E - e sin(E) is 1.2401422508183564\n"
     ]
    },
    {
     "ename": "AssertionError",
     "evalue": "Equation not close enough: error is -0.29985774918164365",
     "output_type": "error",
     "traceback": [
      "\u001b[1;31m---------------------------------------------------------------------------\u001b[0m",
      "\u001b[1;31mAssertionError\u001b[0m                            Traceback (most recent call last)",
      "File \u001b[1;32m~\\LocalDocuments\\SEMT10002_2024\\weekly_labs\\Week_04_Loops\\test_kepler.py:82\u001b[0m\n\u001b[0;32m     80\u001b[0m \u001b[38;5;28mprint\u001b[39m(\u001b[38;5;124m'\u001b[39m\u001b[38;5;124mM is\u001b[39m\u001b[38;5;124m'\u001b[39m,mean_anomaly)\n\u001b[0;32m     81\u001b[0m \u001b[38;5;28mprint\u001b[39m(\u001b[38;5;124m'\u001b[39m\u001b[38;5;124mE - e sin(E) is\u001b[39m\u001b[38;5;124m'\u001b[39m, ecc_anomaly \u001b[38;5;241m-\u001b[39m eccentricity\u001b[38;5;241m*\u001b[39msin(ecc_anomaly))\n\u001b[1;32m---> 82\u001b[0m \u001b[38;5;28;01massert\u001b[39;00m kepler_err\u001b[38;5;241m*\u001b[39m\u001b[38;5;241m*\u001b[39m\u001b[38;5;241m2\u001b[39m \u001b[38;5;241m<\u001b[39m (\u001b[38;5;241m1e-4\u001b[39m\u001b[38;5;241m*\u001b[39mmean_anomaly)\u001b[38;5;241m*\u001b[39m\u001b[38;5;241m*\u001b[39m\u001b[38;5;241m2\u001b[39m, \u001b[38;5;124mf\u001b[39m\u001b[38;5;124m'\u001b[39m\u001b[38;5;124mEquation not close enough: error is \u001b[39m\u001b[38;5;132;01m{\u001b[39;00mkepler_err\u001b[38;5;132;01m}\u001b[39;00m\u001b[38;5;124m'\u001b[39m\n\u001b[0;32m     84\u001b[0m \u001b[38;5;66;03m# everything OK if we got to here\u001b[39;00m\n\u001b[0;32m     85\u001b[0m \u001b[38;5;28mprint\u001b[39m(\u001b[38;5;124m'\u001b[39m\u001b[38;5;124mTest passed: equation solved to sufficient tolerance\u001b[39m\u001b[38;5;124m'\u001b[39m)\n",
      "\u001b[1;31mAssertionError\u001b[0m: Equation not close enough: error is -0.29985774918164365"
     ]
    }
   ],
   "source": [
    "%run test_kepler.py kepler.py"
   ]
  }
 ],
 "metadata": {
  "kernelspec": {
   "display_name": "Python 3 (ipykernel)",
   "language": "python",
   "name": "python3"
  },
  "language_info": {
   "codemirror_mode": {
    "name": "ipython",
    "version": 3
   },
   "file_extension": ".py",
   "mimetype": "text/x-python",
   "name": "python",
   "nbconvert_exporter": "python",
   "pygments_lexer": "ipython3",
   "version": "3.9.10"
  }
 },
 "nbformat": 4,
 "nbformat_minor": 4
}
