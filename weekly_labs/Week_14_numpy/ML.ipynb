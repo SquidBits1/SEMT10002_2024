{
 "cells": [
  {
   "cell_type": "markdown",
   "id": "8e958b01-4b3a-47f4-9b16-afd4f43d0120",
   "metadata": {},
   "source": [
    "<h1> kMeans and kNN</h1>\n",
    "\n",
    "This week, we are going to learn about and implement two loosely related machine-learning algorithms. In this lab, we'll help you to implement the kMeans algorithm, and then for your consolidation exercise, you'll work in pairs to implement KNN. In both cases, you should try not only write code that is correct, but also ensure your code is readable. The best way to do this is to stick to the unit style guide.\n",
    "\n",
    "<h2> kMeans</h2>\n",
    "\n",
    "Before we dive in to code, we need to introduce some background ideas so we can understand what kMeans is trying to do and why we'd want to use it. kMeans is an *unsupervised* *clustering* algorithm. Given some data points, kMeans tries to allocate each data point to one of *k* groups (or *clusters*). "
   ]
  }
 ],
 "metadata": {
  "kernelspec": {
   "display_name": "Python 3 (ipykernel)",
   "language": "python",
   "name": "python3"
  },
  "language_info": {
   "codemirror_mode": {
    "name": "ipython",
    "version": 3
   },
   "file_extension": ".py",
   "mimetype": "text/x-python",
   "name": "python",
   "nbconvert_exporter": "python",
   "pygments_lexer": "ipython3",
   "version": "3.9.10"
  }
 },
 "nbformat": 4,
 "nbformat_minor": 5
}
