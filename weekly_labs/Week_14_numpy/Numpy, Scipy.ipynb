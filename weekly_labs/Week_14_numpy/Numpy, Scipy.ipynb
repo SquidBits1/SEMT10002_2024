{
 "cells": [
  {
   "cell_type": "markdown",
   "id": "65c39f94-4813-4b9a-aa62-cb902787737c",
   "metadata": {},
   "source": [
    "\n",
    "\n",
    "## Getting started\n",
    "\n",
    "Either:\n",
    "\n",
    "- Click [this link](https://colab.research.google.com/github/engmaths/SEMT10002_2024/blob/main/weekly_labs/Week_14_numpy/Numpy,%20Scipy.ipynb) to open this notebook in Google colab.  You'll need to sign in with a Google account before you can run it.  When you do, hit `Ctrl+F9` to check it all runs.\n",
    "\n",
    "or\n",
    "\n",
    "- Download it to your local computer using `git clone https://github.com/engmaths/SEMT10002_2024` or just use `git pull` to refresh if you've done this already.\n",
    "- Navigate to the subfolder `weekly_labs/Week_14_numpy` and open the notebook `Numpy, Scipy.ipynb`.  For example, in Visual Studio Code, use `Ctrl+K Ctrl+O` to open a folder and select the folder just mentioned.  Then you can open the notebook file by clicking on it in the left hand explorer sidebar.\n",
    "\n",
    "<h1> Introduction to Numpy and Scipy</h1>\n",
    "\n",
    "*NumPy* (**Num**erical **Py**thon) is a Python library extensively used for Scientific Computing. Although not part of the core Python library, NumPy is a fundamental part of the modern *Scientific Computing* technology stack and NumPy is used \"under the hood\" in many other libraries (e.g. in SciPy, SKLearn, or Pandas). Code that is written using NumPy is generally faster, more readable, and more likely to be correct!\n",
    "\n",
    "Today's lab will give you a brief introduction to the key features of NumPy. We won't cover everything, so it's a good idea to be aware of the official documentation <a href=https://numpy.org/doc/1.19/>here</a>\n",
    "\n",
    "The key things introduced by NumPy are:\n",
    "\n",
    "1. A multidimensional *array* data type. This is a bit like a list, with the restriction that all data in the array must be of the same *type*. This means we can't mix, for example, ints and strings or ints and floats within an array. For paying this price, we get much more efficient (both in terms of memory and CPU time) code.\n",
    "2. Many common mathematical or scientific utility functions- e.g. calculating the dot product of two vectors.\n",
    "\n",
    "<h2> Getting Started</h2>\n",
    "\n",
    "<h3> Installing and importing NumPy</h3>\n",
    "\n",
    "Depending on how you installed Python, you may already have NumPy installed. You can check this by trying to import it. By convention, numpy as imported as *np*. Try running the line below- if you don't get an error, you already have NumPy installed.\n"
   ]
  },
  {
   "cell_type": "code",
   "execution_count": 1,
   "id": "45759d4c-e531-40f8-9568-6f37f6e1f12c",
   "metadata": {},
   "outputs": [],
   "source": [
    "import numpy as np"
   ]
  },
  {
   "cell_type": "markdown",
   "id": "7614c9ac-43f0-4fff-b1fd-e2f80773f531",
   "metadata": {},
   "source": [
    "If you don't have it installed, you can install it with pip (Python installation package). Do this by typing\n",
    "\n",
    "```bash\n",
    "pip3 install numpy\n",
    "```"
   ]
  },
  {
   "cell_type": "markdown",
   "id": "ebbaf63b-073d-45ad-b6a4-8cf5dacba5c7",
   "metadata": {},
   "source": [
    "<h2> NumPy Arrays</h2>\n",
    "\n",
    "The key thing that NumPy provides for us is an *array* data type. An array is a bit like a list- it can contain multiple elements. Unlike lists, we can't mix data types within an array-we have to specify a single data type that is shared by all elements in the array. The other major difference between an array and a list is that arrays are *multidimensional*. Lists, on the other hand, can only be 1-dimensional. We can make something that looks 2D, 3D or higher by using nesting, but this quickly gets messy. Arrays on the other hand can natively be specified as 2, 3 or N dimensional. This makes them a natural choice for storing and processing vectors and matrices. By forcing all elements in the array to have the same data type, NumPy arrays allow code that runs quicker, makes better use of memory and is easier to read and write. \n",
    "\n",
    "<h3> Creating Arrays</h3>\n",
    "\n",
    "We have a number of options when it comes to defining an array:\n",
    "\n",
    "1. We can make an array from a list"
   ]
  },
  {
   "cell_type": "code",
   "execution_count": 2,
   "id": "a01eab12-8698-4799-bae5-510107ed2a96",
   "metadata": {},
   "outputs": [
    {
     "name": "stdout",
     "output_type": "stream",
     "text": [
      "[1 2 3]\n"
     ]
    }
   ],
   "source": [
    "my_list = [1, 2, 3]\n",
    "my_array = np.array(my_list)\n",
    "print(my_array)"
   ]
  },
  {
   "cell_type": "markdown",
   "id": "8b546a22-f027-4ed6-a61f-825e14c9c238",
   "metadata": {},
   "source": [
    "we can make 2 or 3D arrays from lists by nesting them."
   ]
  },
  {
   "cell_type": "code",
   "execution_count": 3,
   "id": "cc36a58d-565a-447d-bef3-3361338eb8a9",
   "metadata": {},
   "outputs": [
    {
     "name": "stdout",
     "output_type": "stream",
     "text": [
      "[[1 2 3]\n",
      " [4 5 6]]\n"
     ]
    }
   ],
   "source": [
    "my_nested_list = [[1, 2, 3], [4, 5, 6]]\n",
    "my_2D_array = np.array(my_nested_list)\n",
    "print(my_2D_array)"
   ]
  },
  {
   "cell_type": "markdown",
   "id": "d0b181ab-5199-4709-96a9-314c15c65ed6",
   "metadata": {},
   "source": [
    "We can turn an array back into a list using the built-in tolist() method."
   ]
  },
  {
   "cell_type": "code",
   "execution_count": 4,
   "id": "a37659ba-9d94-4d1a-b623-9e8cb12e0c2b",
   "metadata": {},
   "outputs": [
    {
     "name": "stdout",
     "output_type": "stream",
     "text": [
      "[[1, 2, 3], [4, 5, 6]]\n"
     ]
    }
   ],
   "source": [
    "matrix_as_list = my_2D_array.tolist()\n",
    "print(matrix_as_list)"
   ]
  },
  {
   "cell_type": "markdown",
   "id": "b88c675c-87c1-4a47-a3bb-1ca1cd2f4925",
   "metadata": {},
   "source": [
    "2. We can make an array with np.zeros or np.ones. np.ones will make an array of all ones, while np.zeros will make an array of all zeros. Here, we must specify the dimensions of the array (and optionally the data type)."
   ]
  },
  {
   "cell_type": "code",
   "execution_count": 5,
   "id": "16558d01-e383-4fa7-8694-abb954a7d64b",
   "metadata": {},
   "outputs": [
    {
     "name": "stdout",
     "output_type": "stream",
     "text": [
      "Matrix 1\n",
      "[[1. 1. 1.]\n",
      " [1. 1. 1.]]\n",
      "float64\n",
      "\n",
      "\n",
      "Matrix 2\n",
      "[[[1 1 1 1 1]\n",
      "  [1 1 1 1 1]\n",
      "  [1 1 1 1 1]\n",
      "  [1 1 1 1 1]]\n",
      "\n",
      " [[1 1 1 1 1]\n",
      "  [1 1 1 1 1]\n",
      "  [1 1 1 1 1]\n",
      "  [1 1 1 1 1]]\n",
      "\n",
      " [[1 1 1 1 1]\n",
      "  [1 1 1 1 1]\n",
      "  [1 1 1 1 1]\n",
      "  [1 1 1 1 1]]]\n",
      "uint8\n"
     ]
    }
   ],
   "source": [
    "matrix1 = np.ones((2, 3))\n",
    "print(\"Matrix 1\")\n",
    "print(matrix1)\n",
    "print(matrix1.dtype)\n",
    "\n",
    "print(\"\\n\")\n",
    "\n",
    "matrix2 = np.ones((3, 4, 5), dtype=np.uint8)\n",
    "print(\"Matrix 2\")\n",
    "print(matrix2)\n",
    "print(matrix2.dtype)"
   ]
  },
  {
   "cell_type": "markdown",
   "id": "4225174b-3785-49e5-af8d-0a5e667cc593",
   "metadata": {},
   "source": [
    "Here, *matrix1* is a 2x3 matrix of floats (NumPy will infer a data type if you don't specify one). *matrix2* is a 3x4x5 array of *unsigned* 8 bit integers (i.e. representing number from 0 to (2^8)-1=255."
   ]
  },
  {
   "cell_type": "markdown",
   "id": "75459fc7-7c35-4723-85fc-7f04855a11c1",
   "metadata": {},
   "source": [
    "<h3> Array Properties</h3>\n",
    "\n",
    "We've already seen one property of an array- *dtype* is used to represent the type of data it stores. \n",
    "Arrays have many other attributes that can you access (using the standard dot notation)- you can find a full list <a href=https://numpy.org/doc/1.21/reference/arrays.ndarray.html#id1>here</a>. Of these, the ones I find myself using the most are:\n",
    "\n",
    "- shape - this provides a tuple of the array dimensions.\n",
    "- size - this provides the number of elements in the array.\n",
    "\n",
    "In general, we can change the *shape* of an array, as long as the *size* does not change. We can also transpose an array (similar to matrix transposition), using the .transpose() method."
   ]
  },
  {
   "cell_type": "code",
   "execution_count": 6,
   "id": "0841c644-acb8-450a-929f-19fafe0db065",
   "metadata": {},
   "outputs": [
    {
     "name": "stdout",
     "output_type": "stream",
     "text": [
      "Shape: (2, 3)\n",
      "Size: 6\n",
      "[[1 2 3 4 5 6]]\n",
      "Shape: (1, 6)\n",
      "Size: 6\n",
      "[[1]\n",
      " [2]\n",
      " [3]\n",
      " [4]\n",
      " [5]\n",
      " [6]]\n"
     ]
    }
   ],
   "source": [
    "array1 = np.array([[1, 2, 3], [4, 5, 6]])\n",
    "print(\"Shape:\", array1.shape)\n",
    "print(\"Size:\", array1.size)\n",
    "\n",
    "array2 = array1.reshape(1, 6)\n",
    "print(array2)\n",
    "print(\"Shape:\", array2.shape)\n",
    "print(\"Size:\", array2.size)\n",
    "\n",
    "print(array2.transpose())"
   ]
  },
  {
   "cell_type": "markdown",
   "id": "dfb6e7ee-3450-4515-b3fb-712760b2c384",
   "metadata": {},
   "source": [
    "<h3> Accessing Array Elements </h3>\n",
    "\n",
    "Accessing an element of a NumPy array is in many ways similar to a list. For a 1D array, we are square brackets ([]) to specify the index we want to access. e.g. "
   ]
  },
  {
   "cell_type": "code",
   "execution_count": 7,
   "id": "8522329e-fa9c-4371-8938-687a1b4ab28d",
   "metadata": {},
   "outputs": [
    {
     "name": "stdout",
     "output_type": "stream",
     "text": [
      "1\n"
     ]
    }
   ],
   "source": [
    "vector = np.array([0, 1, 2])\n",
    "print(vector[1])"
   ]
  },
  {
   "cell_type": "markdown",
   "id": "b144342a-85ee-4717-b1ee-a30455ccb9d5",
   "metadata": {},
   "source": [
    "Just like a list, we can use reverse and slice notation too. "
   ]
  },
  {
   "cell_type": "code",
   "execution_count": 8,
   "id": "fe613152-ae4a-4082-9a59-8910d339e258",
   "metadata": {},
   "outputs": [
    {
     "name": "stdout",
     "output_type": "stream",
     "text": [
      "Indexing with -1 will return the last element\n",
      "2\n",
      "\n",
      "Indexing with two numbers seperated by a colon will return a slice\n",
      "[1 2]\n"
     ]
    }
   ],
   "source": [
    "print(\"Indexing with -1 will return the last element\")\n",
    "print(vector[-1])\n",
    "print(\"\\nIndexing with two numbers seperated by a colon will return a slice\")\n",
    "print(vector[1:3])"
   ]
  },
  {
   "cell_type": "markdown",
   "id": "b749d6f0-1169-499a-8f99-ab902b5d00f6",
   "metadata": {},
   "source": [
    "\n",
    "<img src=\"https://github.com/engmaths/SEMT10002_2024/blob/main/img/array_axes.png?raw=true\" width=\"20%\">\n",
    "\n",
    "\n",
    "However, the syntax changes when we move from a 1D array to a 2D array. To access a single element of a 2D array, we need to specify two values-the index of the column and the index of the row. Both indices are specified within a single set of square brackets and separated by a comma (,). e.g. To get the top right element of a 2x2 matrix, we would access element [0, 0], while to access the bottom left element we would access element [1, 1]. e.g."
   ]
  },
  {
   "cell_type": "code",
   "execution_count": 9,
   "id": "84fe8cb0-3611-4522-8144-bdab5cbd33c5",
   "metadata": {},
   "outputs": [
    {
     "name": "stdout",
     "output_type": "stream",
     "text": [
      "Full matrix\n",
      "[[1 2]\n",
      " [3 4]]\n",
      "Accessing top right\n",
      "1\n",
      "Accessing bottom left\n",
      "4\n"
     ]
    }
   ],
   "source": [
    "matrix = np.array([[1, 2], [3, 4]])\n",
    "print(\"Full matrix\")\n",
    "print(matrix)\n",
    "print(\"Accessing top right\")\n",
    "print(matrix[0, 0])\n",
    "print(\"Accessing bottom left\")\n",
    "print(matrix[1, 1])\n"
   ]
  },
  {
   "cell_type": "markdown",
   "id": "c450b2be-5d46-420b-afd9-276323d9728c",
   "metadata": {},
   "source": [
    "If we want to access an entire row or column of an array, we can use a ':' to specify that we want all of a particular axis."
   ]
  },
  {
   "cell_type": "code",
   "execution_count": 11,
   "id": "a752203b-139f-4cc3-937a-dcfdf9645cb5",
   "metadata": {},
   "outputs": [
    {
     "name": "stdout",
     "output_type": "stream",
     "text": [
      "Top Row\n",
      "[1 2]\n",
      "Bottom\n",
      "[3 4]\n",
      "Left column\n",
      "[1 3]\n",
      "Right column\n",
      "[2 4]\n"
     ]
    }
   ],
   "source": [
    "print(\"Top Row\")\n",
    "print(matrix[0, :])\n",
    "print(\"Bottom\")\n",
    "print(matrix[1, :])\n",
    "print(\"Left column\")\n",
    "print(matrix[:, 0])\n",
    "print(\"Right column\")\n",
    "print(matrix[:, 1])"
   ]
  },
  {
   "cell_type": "markdown",
   "id": "4d5ebd7c-ad89-4cdf-9021-1199af278a8d",
   "metadata": {},
   "source": [
    "<h3> Exercise 1 - Making and Reshaping Arrays</h3>\n",
    "\n",
    "1. Create an array to represent the following 3x3 matrix\n",
    "\n",
    "$ \\begin{bmatrix}\n",
    "1 & 2 & 3 \\\\\n",
    "2 & 4 & 6 \\\\\n",
    "4 & 8 & 12 \n",
    "\\end{bmatrix}  $\n",
    "\n",
    "2. Turn the 3x3 matrix into a 1x9 matrix.\n",
    "3. Create a new 1x6 matrix by removing the first two and last elements of the 1x9 matrix.\n",
    "4. Turn this 1x6 matrix into a 3x2 matrix.\n",
    "5. The determinant of a 2x2 matrix\n",
    "\n",
    "$ \\begin{bmatrix}\n",
    "a & b  \\\\\n",
    "c & d  \\\\ \n",
    "\\end{bmatrix}  $\n",
    "\n",
    "is given by the formula $determinant = ad-bc$. Write some code to find the determinant of the matrix:\n",
    "\n",
    "$ \\begin{bmatrix}\n",
    "7 & 9  \\\\\n",
    "4 & 6  \\\\ \n",
    "\\end{bmatrix}  $"
   ]
  },
  {
   "cell_type": "code",
   "execution_count": 34,
   "id": "c321d212-b738-4e94-87db-f1d179be170e",
   "metadata": {},
   "outputs": [
    {
     "name": "stdout",
     "output_type": "stream",
     "text": [
      "6\n"
     ]
    }
   ],
   "source": [
    "#Your code goes here.\n",
    "\n",
    "# Q1\n",
    "matrix = np.array([[1,2,3],[2,4,6],[4,8,12]])\n",
    "\n",
    "# Q2\n",
    "matrix = matrix.reshape(1,9)\n",
    "\n",
    "# Q3\n",
    "matrix = matrix[:, 2:8]\n",
    "\n",
    "# Q4\n",
    "matrix = matrix.reshape(3,2)\n",
    "\n",
    "# Q5\n",
    "matrix2 = np.array([[7,9],[4,6]])\n",
    "a = matrix2[0,0]\n",
    "b = matrix2[0,1]\n",
    "c = matrix2[1,0]\n",
    "d = matrix2[1,1]\n",
    "determinant = a*d-b*c\n",
    "print(determinant)"
   ]
  },
  {
   "cell_type": "markdown",
   "id": "9f43da7a-4d71-46f8-aa29-65c79dc5d6ee",
   "metadata": {},
   "source": [
    "<h2> Array Operations and Vectorisation</h2>\n",
    "\n",
    "Much of the power of NumPy comes from its ability to efficiently apply operations to every element in an array. For example, if we wanted to double every element in a list, we might write the following code:\n"
   ]
  },
  {
   "cell_type": "code",
   "execution_count": 97,
   "id": "036f388d-64c9-4d58-8aba-0afb1510cacf",
   "metadata": {},
   "outputs": [
    {
     "name": "stdout",
     "output_type": "stream",
     "text": [
      "[2, 4, 6, 8, 10, 12]\n"
     ]
    }
   ],
   "source": [
    "initial_list = [1, 2, 3, 4, 5, 6]\n",
    "doubled_list = []\n",
    "\n",
    "for element in initial_list:\n",
    "    doubled_list.append(2 * element)\n",
    "\n",
    "print(doubled_list)"
   ]
  },
  {
   "cell_type": "markdown",
   "id": "61193f2c-f192-4fae-9fe9-997821b3fd70",
   "metadata": {},
   "source": [
    "We can achieve the same thing using more compact syntax with a list comprehension"
   ]
  },
  {
   "cell_type": "code",
   "execution_count": 98,
   "id": "f3634b10-3c57-40bb-b3a7-603af86710cc",
   "metadata": {},
   "outputs": [
    {
     "name": "stdout",
     "output_type": "stream",
     "text": [
      "[2, 4, 6, 8, 10, 12]\n"
     ]
    }
   ],
   "source": [
    "initial_list = [1, 2, 3, 4, 5, 6]\n",
    "doubled_list = [element*2 for element in initial_list]\n",
    "print(doubled_list)"
   ]
  },
  {
   "cell_type": "markdown",
   "id": "67637e56-69cb-4796-9a23-b511f3e62a4d",
   "metadata": {},
   "source": [
    "Using a NumPy array, we can avoid the loop altogether and just write:"
   ]
  },
  {
   "cell_type": "code",
   "execution_count": 99,
   "id": "17b792ee-5062-44f6-9865-df5cdb5f4932",
   "metadata": {},
   "outputs": [
    {
     "name": "stdout",
     "output_type": "stream",
     "text": [
      "[ 2  4  6  8 10 12]\n"
     ]
    }
   ],
   "source": [
    "initial_array = np.array([1, 2, 3, 4, 5, 6])\n",
    "doubled_array = 2 * initial_array\n",
    "print(doubled_array)"
   ]
  },
  {
   "cell_type": "markdown",
   "id": "e04fbda6-064d-4eb8-ba40-efa979697212",
   "metadata": {},
   "source": [
    "It's important to understand here that NumPy isn't just simplifying the syntax for us- by using memory and CPU caches more efficiently, the final piece of code will also run faster too. Now the speed-up for this exercise here may be marginal, but as code gets more complex, the difference will be meaningful."
   ]
  },
  {
   "cell_type": "markdown",
   "id": "28894a51-a72f-4ea2-94a1-a5ba545e949c",
   "metadata": {},
   "source": [
    "<h3> Mathematical Operations</h3>\n",
    "\n",
    "Numpy will vectorise many mathematical operators for us- additional, multiplication, and so on will automatically be applied element wise."
   ]
  },
  {
   "cell_type": "code",
   "execution_count": 100,
   "id": "80cd7767-6189-4994-9c9b-4c8f57237701",
   "metadata": {},
   "outputs": [
    {
     "name": "stdout",
     "output_type": "stream",
     "text": [
      "Addition\n",
      "[5 7 9]\n",
      "Subtraction\n",
      "[-3 -3 -3]\n",
      "Multiplication\n",
      "[ 4 10 18]\n",
      "Squaring\n",
      "[1 4 9]\n",
      "[16 25 36]\n"
     ]
    }
   ],
   "source": [
    "vector1 = np.array([1, 2, 3])\n",
    "vector2 = np.array([4, 5, 6])\n",
    "\n",
    "print(\"Addition\")\n",
    "print(vector1 + vector2)\n",
    "print(\"Subtraction\")\n",
    "print(vector1 - vector2)\n",
    "print(\"Multiplication\")\n",
    "print(vector1 * vector2)\n",
    "print(\"Squaring\")\n",
    "print(vector1**2)\n",
    "print(vector2**2)"
   ]
  },
  {
   "cell_type": "markdown",
   "id": "12b8ad74-6540-4c03-b5ae-fcf6682aff93",
   "metadata": {},
   "source": [
    "Note that these operations will only work if the corresponding mathematical operations are well-defined- if we try to add arrays of different lengths, for example, we would get an error."
   ]
  },
  {
   "cell_type": "code",
   "execution_count": 101,
   "id": "c264590f-3774-49d9-a4dd-8dab468b3700",
   "metadata": {},
   "outputs": [
    {
     "ename": "ValueError",
     "evalue": "operands could not be broadcast together with shapes (2,) (3,) ",
     "output_type": "error",
     "traceback": [
      "\u001b[0;31m---------------------------------------------------------------------------\u001b[0m",
      "\u001b[0;31mValueError\u001b[0m                                Traceback (most recent call last)",
      "Input \u001b[0;32mIn [101]\u001b[0m, in \u001b[0;36m<cell line: 3>\u001b[0;34m()\u001b[0m\n\u001b[1;32m      1\u001b[0m vector1 \u001b[38;5;241m=\u001b[39m np\u001b[38;5;241m.\u001b[39marray([\u001b[38;5;241m1\u001b[39m, \u001b[38;5;241m2\u001b[39m])\n\u001b[1;32m      2\u001b[0m vector2 \u001b[38;5;241m=\u001b[39m np\u001b[38;5;241m.\u001b[39marray([\u001b[38;5;241m4\u001b[39m, \u001b[38;5;241m5\u001b[39m, \u001b[38;5;241m6\u001b[39m])\n\u001b[0;32m----> 3\u001b[0m \u001b[38;5;28mprint\u001b[39m(\u001b[43mvector1\u001b[49m\u001b[38;5;241;43m+\u001b[39;49m\u001b[43mvector2\u001b[49m)\n",
      "\u001b[0;31mValueError\u001b[0m: operands could not be broadcast together with shapes (2,) (3,) "
     ]
    }
   ],
   "source": [
    "vector1 = np.array([1, 2])\n",
    "vector2 = np.array([4, 5, 6])\n",
    "print(vector1+vector2)"
   ]
  },
  {
   "cell_type": "markdown",
   "id": "d07d3aef-5376-4f12-865d-fbbeb2bff398",
   "metadata": {},
   "source": [
    "<h3> Logical Operations</h3>\n",
    "\n",
    "Just like mathematical operations, logical operations (such as <, >, ==) are also vectorised. If we write the expression ```array < value```, then we'll get a new array consisting only of True and False values. e.g."
   ]
  },
  {
   "cell_type": "code",
   "execution_count": 102,
   "id": "972c4e96-8ccd-416a-9b1d-d42a18bf6d66",
   "metadata": {},
   "outputs": [
    {
     "name": "stdout",
     "output_type": "stream",
     "text": [
      "[ True  True  True  True False False False False False False]\n"
     ]
    }
   ],
   "source": [
    "vector1 = np.array([1, 2, 3, 4, 5, 6, 7, 8, 9, 10])\n",
    "print(vector1 < 5)"
   ]
  },
  {
   "cell_type": "markdown",
   "id": "39c7dd40-8e33-42f0-9a04-6ee13c50f940",
   "metadata": {},
   "source": [
    "We can then use this boolean array to index into our original array-this will give us a new array containing only the values that satisfy our condition."
   ]
  },
  {
   "cell_type": "code",
   "execution_count": 103,
   "id": "9fa7f532-cc00-4b3a-b1b2-a6aaa97019fb",
   "metadata": {},
   "outputs": [
    {
     "name": "stdout",
     "output_type": "stream",
     "text": [
      "[1 2 3 4]\n"
     ]
    }
   ],
   "source": [
    "vector1 = np.array([1, 2, 3, 4, 5, 6, 7, 8, 9, 10])\n",
    "boolean_array = vector1 < 5\n",
    "print(vector1[boolean_array])"
   ]
  },
  {
   "cell_type": "markdown",
   "id": "25afca8a-8eb0-444c-8a25-19e3221f70fb",
   "metadata": {},
   "source": [
    "We can write this more compactly as:"
   ]
  },
  {
   "cell_type": "code",
   "execution_count": 104,
   "id": "2a50d07a-6f90-4aee-b90c-5378156fdd0d",
   "metadata": {},
   "outputs": [
    {
     "name": "stdout",
     "output_type": "stream",
     "text": [
      "[1 2 3 4]\n"
     ]
    }
   ],
   "source": [
    "print(vector1[vector1 < 5])"
   ]
  },
  {
   "cell_type": "markdown",
   "id": "ac1b4b5c-78de-4d81-b00e-efa5004bacef",
   "metadata": {},
   "source": [
    "<h3> Built-in functions</h3>\n",
    "\n",
    "Finally, NumPy has many built-in functions that we can use. All NumPy functions are vectorised, so can be applied to whole arrays without using a loop. We won't go through all of these, but you can find a list <a href=https://numpy.org/doc/stable/reference/routines.math.html>here</a>"
   ]
  },
  {
   "cell_type": "code",
   "execution_count": 105,
   "id": "e5065169-a821-460f-b75c-76a838194d77",
   "metadata": {},
   "outputs": [
    {
     "name": "stdout",
     "output_type": "stream",
     "text": [
      "[ 0.84147098  0.90929743  0.14112001 -0.7568025  -0.95892427 -0.2794155\n",
      "  0.6569866   0.98935825  0.41211849 -0.54402111]\n"
     ]
    }
   ],
   "source": [
    "print(np.sin(vector1))"
   ]
  },
  {
   "cell_type": "markdown",
   "id": "b95289f2-b423-4d7e-9b64-7eba32d84ef0",
   "metadata": {},
   "source": [
    "<h3> Exercise 2</h3>\n",
    "\n",
    "1. Calculating mean squared error.\n",
    "\n",
    "In machine learning, it's common to work with models that make predict the value of things- for example, we could train a model to predict the number of medals that team GB is expected to win at the Olympics, or the number of admissions to hospital on a certain day of the year. One way of evaluating such a model is to calculate the mean squared error-this is given by the formula:\n",
    "\n",
    "$ MSE = \\frac{1}{n} \\sum_{i=1}^n(Y_{predicted, i} - Y_{actual, i})^2$\n",
    "\n",
    "where $n$ is the number of predictions, $Y_{predicted, i}$ is the ith prediction and $Y_{actual, i}$ is the ith actual value. Given the following data set, write some code to calculate the mean squared error. \n"
   ]
  },
  {
   "cell_type": "code",
   "execution_count": 35,
   "id": "a458dbab-8cbc-419c-acfe-3f47260686cf",
   "metadata": {},
   "outputs": [
    {
     "name": "stdout",
     "output_type": "stream",
     "text": [
      "2.7777777777777777\n"
     ]
    }
   ],
   "source": [
    "predictions = np.array([4, 5, 6, 1, 2, 6, 8, 9, 10])\n",
    "actual = np.array([5, 5, 6, 2, 3, 5, 4, 7, 9])\n",
    "\n",
    "#Your code goes here.\n",
    "\n",
    "def mean_squared_error(predictions, actual):\n",
    "    # Assume predictions and actual have same shape\n",
    "    diff = predictions - actual\n",
    "    squared_diff = diff**2\n",
    "    return np.sum(squared_diff)/diff.size\n",
    "\n",
    "print(mean_squared_error(predictions, actual))"
   ]
  },
  {
   "cell_type": "markdown",
   "id": "bc6b2f27-a647-46cf-98f6-203121f2faa8",
   "metadata": {},
   "source": [
    "2. The function np.roots (look up the details in the NumPy documentation) can be used to find the roots of polynomial equations. Use np.roots to find the roots of the following Polynomials:\n",
    "\n",
    "- $ x^2 - 2x + 1 $\n",
    "- A 1000 degree polynomial with random integers co-efficients\n"
   ]
  },
  {
   "cell_type": "code",
   "execution_count": 45,
   "id": "c648cd59-c555-422d-8aaa-4be38a941de9",
   "metadata": {},
   "outputs": [
    {
     "name": "stdout",
     "output_type": "stream",
     "text": [
      "[1. 1.]\n",
      "[ 2.05022090e+00+1.03296029j  2.05022090e+00-1.03296029j\n",
      "  1.22781586e+00+0.j         -1.20407071e+00+0.j\n",
      "  7.43172960e-01+0.73033128j  7.43172960e-01-0.73033128j\n",
      "  9.36516904e-01+0.51345155j  9.36516904e-01-0.51345155j\n",
      " -5.42237652e-01+0.88196716j -5.42237652e-01-0.88196716j\n",
      "  8.80067887e-01+0.52624409j  8.80067887e-01-0.52624409j\n",
      " -7.72580414e-01+0.64207742j -7.72580414e-01-0.64207742j\n",
      " -7.38829551e-01+0.67825321j -7.38829551e-01-0.67825321j\n",
      " -7.44349073e-01+0.66889004j -7.44349073e-01-0.66889004j\n",
      " -7.48456906e-01+0.66397216j -7.48456906e-01-0.66397216j\n",
      " -7.29826849e-01+0.68223504j -7.29826849e-01-0.68223504j\n",
      " -7.26036135e-01+0.68719858j -7.26036135e-01-0.68719858j\n",
      " -7.21344524e-01+0.6944279j  -7.21344524e-01-0.6944279j\n",
      " -7.37095467e-01+0.6745268j  -7.37095467e-01-0.6745268j\n",
      " -7.16528802e-01+0.6974943j  -7.16528802e-01-0.6974943j\n",
      " -6.58470939e-01+0.75434476j -6.58470939e-01-0.75434476j\n",
      " -6.63600560e-01+0.74921652j -6.63600560e-01-0.74921652j\n",
      " -7.10089634e-01+0.70488658j -7.10089634e-01-0.70488658j\n",
      " -6.74758483e-01+0.73948708j -6.74758483e-01-0.73948708j\n",
      " -7.04349007e-01+0.71097603j -7.04349007e-01-0.71097603j\n",
      " -6.84936869e-01+0.7273339j  -6.84936869e-01-0.7273339j\n",
      " -6.89569987e-01+0.72254521j -6.89569987e-01-0.72254521j\n",
      " -6.94771608e-01+0.71863274j -6.94771608e-01-0.71863274j\n",
      " -6.78704280e-01+0.7322712j  -6.78704280e-01-0.7322712j\n",
      " -7.53553003e-01+0.65692275j -7.53553003e-01-0.65692275j\n",
      " -6.68990855e-01+0.74180946j -6.68990855e-01-0.74180946j\n",
      "  6.29160313e-01+0.79594073j  6.29160313e-01-0.79594073j\n",
      "  7.88354555e-01+0.62529979j  7.88354555e-01-0.62529979j\n",
      "  7.60707724e-01+0.66286421j  7.60707724e-01-0.66286421j\n",
      "  7.65069641e-01+0.64700283j  7.65069641e-01-0.64700283j\n",
      "  7.75274412e-01+0.63373377j  7.75274412e-01-0.63373377j\n",
      "  7.46826787e-01+0.67895505j  7.46826787e-01-0.67895505j\n",
      "  7.58109106e-01+0.65078622j  7.58109106e-01-0.65078622j\n",
      "  7.53441285e-01+0.65767184j  7.53441285e-01-0.65767184j\n",
      "  6.69277024e-01+0.74858969j  6.69277024e-01-0.74858969j\n",
      "  6.98655037e-01+0.72284229j  6.98655037e-01-0.72284229j\n",
      "  7.14354793e-01+0.70160917j  7.14354793e-01-0.70160917j\n",
      "  7.09030918e-01+0.70749132j  7.09030918e-01-0.70749132j\n",
      "  6.74830690e-01+0.73808465j  6.74830690e-01-0.73808465j\n",
      "  7.32273344e-01+0.68366683j  7.32273344e-01-0.68366683j\n",
      "  7.19052152e-01+0.69410217j  7.19052152e-01-0.69410217j\n",
      "  6.81123000e-01+0.7314331j   6.81123000e-01-0.7314331j\n",
      "  6.88953423e-01+0.72651819j  6.88953423e-01-0.72651819j\n",
      "  6.66800056e-01+0.7440998j   6.66800056e-01-0.7440998j\n",
      "  7.34934901e-01+0.67637934j  7.34934901e-01-0.67637934j\n",
      "  7.43997479e-01+0.6660082j   7.43997479e-01-0.6660082j\n",
      " -6.96622360e-01+0.71192958j -6.96622360e-01-0.71192958j\n",
      "  6.99602659e-01+0.71102462j  6.99602659e-01-0.71102462j\n",
      "  6.85968958e-01+0.7229236j   6.85968958e-01-0.7229236j\n",
      "  6.54908137e-01+0.75636026j  6.54908137e-01-0.75636026j\n",
      "  7.23487837e-01+0.68498633j  7.23487837e-01-0.68498633j\n",
      " -7.55830123e-01+0.65336967j -7.55830123e-01-0.65336967j\n",
      " -6.46444346e-01+0.76509811j -6.46444346e-01-0.76509811j\n",
      " -6.37526053e-01+0.77284193j -6.37526053e-01-0.77284193j\n",
      "  6.36897287e-01+0.77478356j  6.36897287e-01-0.77478356j\n",
      "  6.45370376e-01+0.76469913j  6.45370376e-01-0.76469913j\n",
      "  6.58917194e-01+0.74887553j  6.58917194e-01-0.74887553j\n",
      "  7.42151965e-01+0.66189881j  7.42151965e-01-0.66189881j\n",
      " -7.74483313e-01+0.63476907j -7.74483313e-01-0.63476907j\n",
      " -6.52529332e-01+0.75574299j -6.52529332e-01-0.75574299j\n",
      " -7.62542587e-01+0.64571731j -7.62542587e-01-0.64571731j\n",
      " -6.30756373e-01+0.77642402j -6.30756373e-01-0.77642402j\n",
      "  7.67919746e-01+0.63593015j  7.67919746e-01-0.63593015j\n",
      " -7.06832560e-01+0.69423528j -7.06832560e-01-0.69423528j\n",
      " -6.42469200e-01+0.76423905j -6.42469200e-01-0.76423905j\n",
      "  5.93264030e-01+0.81379206j  5.93264030e-01-0.81379206j\n",
      "  7.76344501e-01+0.62875474j  7.76344501e-01-0.62875474j\n",
      " -8.03535753e-01+0.60387206j -8.03535753e-01-0.60387206j\n",
      " -7.95139122e-01+0.61172421j -7.95139122e-01-0.61172421j\n",
      " -6.15907735e-01+0.79103442j -6.15907735e-01-0.79103442j\n",
      "  6.44415548e-01+0.7623126j   6.44415548e-01-0.7623126j\n",
      "  8.01921483e-01+0.6044415j   8.01921483e-01-0.6044415j\n",
      " -5.59444622e-01+0.84526987j -5.59444622e-01-0.84526987j\n",
      "  6.13830869e-01+0.7920415j   6.13830869e-01-0.7920415j\n",
      "  6.17512668e-01+0.7868986j   6.17512668e-01-0.7868986j\n",
      "  6.26162734e-01+0.77800317j  6.26162734e-01-0.77800317j\n",
      "  6.32342148e-01+0.77127703j  6.32342148e-01-0.77127703j\n",
      " -6.23511539e-01+0.78280347j -6.23511539e-01-0.78280347j\n",
      " -7.76737173e-01+0.6271105j  -7.76737173e-01-0.6271105j\n",
      " -7.87945506e-01+0.61542129j -7.87945506e-01-0.61542129j\n",
      " -7.81912684e-01+0.6204261j  -7.81912684e-01-0.6204261j\n",
      " -6.65062291e-01+0.73393322j -6.65062291e-01-0.73393322j\n",
      " -7.75199212e-01+0.62550597j -7.75199212e-01-0.62550597j\n",
      " -7.60313453e-01+0.6411228j  -7.60313453e-01-0.6411228j\n",
      "  7.85162675e-01+0.61693686j  7.85162675e-01-0.61693686j\n",
      "  6.91374074e-01+0.70481103j  6.91374074e-01-0.70481103j\n",
      "  6.06323705e-01+0.79365899j  6.06323705e-01-0.79365899j\n",
      "  6.01474413e-01+0.79909208j  6.01474413e-01-0.79909208j\n",
      " -6.17022552e-01+0.78446191j -6.17022552e-01-0.78446191j\n",
      " -6.28481133e-01+0.7675817j  -6.28481133e-01-0.7675817j\n",
      " -7.96835967e-01+0.60340113j -7.96835967e-01-0.60340113j\n",
      " -6.07819788e-01+0.79519676j -6.07819788e-01-0.79519676j\n",
      "  5.95386054e-01+0.80437911j  5.95386054e-01-0.80437911j\n",
      " -8.05571715e-01+0.59464206j -8.05571715e-01-0.59464206j\n",
      "  7.89126270e-01+0.60908144j  7.89126270e-01-0.60908144j\n",
      " -5.98200928e-01+0.80177504j -5.98200928e-01-0.80177504j\n",
      "  5.88455541e-01+0.80841819j  5.88455541e-01-0.80841819j\n",
      "  7.94117843e-01+0.60233629j  7.94117843e-01-0.60233629j\n",
      " -6.00610443e-01+0.79715705j -6.00610443e-01-0.79715705j\n",
      "  8.02352244e-01+0.59523611j  8.02352244e-01-0.59523611j\n",
      "  8.07464555e-01+0.59026861j  8.07464555e-01-0.59026861j\n",
      " -5.71601596e-01+0.82664196j -5.71601596e-01-0.82664196j\n",
      " -5.85321430e-01+0.81047641j -5.85321430e-01-0.81047641j\n",
      " -5.82905422e-01+0.81430123j -5.82905422e-01-0.81430123j\n",
      " -8.05223792e-01+0.58720817j -8.05223792e-01-0.58720817j\n",
      " -8.09770822e-01+0.58386285j -8.09770822e-01-0.58386285j\n",
      "  5.79524713e-01+0.81266383j  5.79524713e-01-0.81266383j\n",
      " -5.88113558e-01+0.80409311j -5.88113558e-01-0.80409311j\n",
      "  8.21396423e-01+0.57448742j  8.21396423e-01-0.57448742j\n",
      "  5.76156626e-01+0.81937188j  5.76156626e-01-0.81937188j\n",
      "  8.11047828e-01+0.58291546j  8.11047828e-01-0.58291546j\n",
      "  8.15339817e-01+0.57930669j  8.15339817e-01-0.57930669j\n",
      " -8.47800514e-01+0.54953298j -8.47800514e-01-0.54953298j\n",
      " -8.16699317e-01+0.57759672j -8.16699317e-01-0.57759672j\n",
      " -8.19768522e-01+0.57345414j -8.19768522e-01-0.57345414j\n",
      " -8.26147323e-01+0.56842676j -8.26147323e-01-0.56842676j\n",
      "  6.28464821e-01+0.75552663j  6.28464821e-01-0.75552663j\n",
      " -5.73876248e-01+0.81878306j -5.73876248e-01-0.81878306j\n",
      " -8.41842029e-01+0.552201j   -8.41842029e-01-0.552201j\n",
      " -5.66464650e-01+0.82452594j -5.66464650e-01-0.82452594j\n",
      " -8.33843307e-01+0.55730384j -8.33843307e-01-0.55730384j\n",
      "  5.70648066e-01+0.82034698j  5.70648066e-01-0.82034698j\n",
      " -8.24659733e-01+0.56117654j -8.24659733e-01-0.56117654j\n",
      " -5.56966891e-01+0.8275201j  -5.56966891e-01-0.8275201j\n",
      "  5.54555794e-01+0.8395007j   5.54555794e-01-0.8395007j\n",
      "  5.61774559e-01+0.83037745j  5.61774559e-01-0.83037745j\n",
      " -8.35899633e-01+0.54640806j -8.35899633e-01-0.54640806j\n",
      "  8.22561484e-01+0.56623541j  8.22561484e-01-0.56623541j\n",
      "  8.26729230e-01+0.55886892j  8.26729230e-01-0.55886892j\n",
      "  8.30150416e-01+0.55560487j  8.30150416e-01-0.55560487j\n",
      "  5.61193149e-01+0.82297062j  5.61193149e-01-0.82297062j\n",
      "  8.38696375e-01+0.54769216j  8.38696375e-01-0.54769216j\n",
      "  5.50181723e-01+0.83622975j  5.50181723e-01-0.83622975j\n",
      "  8.35009516e-01+0.54810212j  8.35009516e-01-0.54810212j\n",
      "  5.42334760e-01+0.84388605j  5.42334760e-01-0.84388605j\n",
      " -4.51069412e-01+0.92270581j -4.51069412e-01-0.92270581j\n",
      " -5.40432952e-01+0.84608913j -5.40432952e-01-0.84608913j\n",
      " -5.45403880e-01+0.83542549j -5.45403880e-01-0.83542549j\n",
      " -8.54426208e-01+0.52180559j -8.54426208e-01-0.52180559j\n",
      " -8.47062114e-01+0.53488056j -8.47062114e-01-0.53488056j\n",
      " -8.47458299e-01+0.52658414j -8.47458299e-01-0.52658414j\n",
      " -8.42244312e-01+0.5362516j  -8.42244312e-01-0.5362516j\n",
      "  6.97295470e-01+0.67172216j  6.97295470e-01-0.67172216j\n",
      "  8.42696153e-01+0.53925714j  8.42696153e-01-0.53925714j\n",
      " -5.38655686e-01+0.83519191j -5.38655686e-01-0.83519191j\n",
      " -5.34261617e-01+0.84391415j -5.34261617e-01-0.84391415j\n",
      "  5.34339581e-01+0.84787714j  5.34339581e-01-0.84787714j\n",
      "  7.64026612e-01+0.60873127j  7.64026612e-01-0.60873127j\n",
      " -5.25922317e-01+0.85198911j -5.25922317e-01-0.85198911j\n",
      "  5.28243156e-01+0.85230957j  5.28243156e-01-0.85230957j\n",
      "  5.41070369e-01+0.83405258j  5.41070369e-01-0.83405258j\n",
      "  8.46395495e-01+0.53135384j  8.46395495e-01-0.53135384j\n",
      "  5.22438709e-01+0.85710553j  5.22438709e-01-0.85710553j\n",
      " -8.59189004e-01+0.51422013j -8.59189004e-01-0.51422013j\n",
      " -8.63743992e-01+0.51019371j -8.63743992e-01-0.51019371j\n",
      " -5.16037523e-01+0.8560426j  -5.16037523e-01-0.8560426j\n",
      "  4.16269839e-01+0.94284897j  4.16269839e-01-0.94284897j\n",
      " -5.10207731e-01+0.85926134j -5.10207731e-01-0.85926134j\n",
      "  8.51752988e-01+0.52385574j  8.51752988e-01-0.52385574j\n",
      " -4.98413397e-01+0.86731562j -4.98413397e-01-0.86731562j\n",
      " -8.61750300e-01+0.50365951j -8.61750300e-01-0.50365951j\n",
      " -8.73431593e-01+0.49230769j -8.73431593e-01-0.49230769j\n",
      "  8.56976973e-01+0.51449414j  8.56976973e-01-0.51449414j\n",
      "  5.11365544e-01+0.85942691j  5.11365544e-01-0.85942691j\n",
      "  5.18719385e-01+0.84827293j  5.18719385e-01-0.84827293j\n",
      "  8.44468482e-01+0.5218238j   8.44468482e-01-0.5218238j\n",
      " -8.65733154e-01+0.49734967j -8.65733154e-01-0.49734967j\n",
      "  5.04317913e-01+0.8635306j   5.04317913e-01-0.8635306j\n",
      "  4.99202049e-01+0.86884265j  4.99202049e-01-0.86884265j\n",
      "  4.92174933e-01+0.87516912j  4.92174933e-01-0.87516912j\n",
      " -8.97072270e-01+0.46840731j -8.97072270e-01-0.46840731j\n",
      " -4.79827966e-01+0.88416015j -4.79827966e-01-0.88416015j\n",
      "  8.61167642e-01+0.5054645j   8.61167642e-01-0.5054645j\n",
      " -8.75140831e-01+0.48677761j -8.75140831e-01-0.48677761j\n",
      " -4.89507066e-01+0.87392619j -4.89507066e-01-0.87392619j\n",
      " -4.99079213e-01+0.86210793j -4.99079213e-01-0.86210793j\n",
      " -4.80054594e-01+0.87557149j -4.80054594e-01-0.87557149j\n",
      " -8.76291180e-01+0.47860843j -8.76291180e-01-0.47860843j\n",
      "  8.61216501e-01+0.50263344j  8.61216501e-01-0.50263344j\n",
      "  8.69666726e-01+0.49677231j  8.69666726e-01-0.49677231j\n",
      "  4.90197551e-01+0.86694114j  4.90197551e-01-0.86694114j\n",
      "  4.71297111e-01+0.88629444j  4.71297111e-01-0.88629444j\n",
      "  4.77474870e-01+0.8783585j   4.77474870e-01-0.8783585j\n",
      "  8.72730412e-01+0.48727641j  8.72730412e-01-0.48727641j\n",
      "  8.85501175e-01+0.47064426j  8.85501175e-01-0.47064426j\n",
      "  4.81040420e-01+0.87241965j  4.81040420e-01-0.87241965j\n",
      "  4.69048203e-01+0.88429805j  4.69048203e-01-0.88429805j\n",
      "  4.61519132e-01+0.88738342j  4.61519132e-01-0.88738342j\n",
      " -4.59915807e-01+0.89529326j -4.59915807e-01-0.89529326j\n",
      " -8.79308259e-01+0.47346343j -8.79308259e-01-0.47346343j\n",
      " -4.69766995e-01+0.883226j   -4.69766995e-01-0.883226j\n",
      "  8.78475265e-01+0.47560113j  8.78475265e-01-0.47560113j\n",
      "  4.54409251e-01+0.89405031j  4.54409251e-01-0.89405031j\n",
      " -5.25715940e-01+0.81827805j -5.25715940e-01-0.81827805j\n",
      " -8.91248689e-01+0.45868653j -8.91248689e-01-0.45868653j\n",
      " -8.84985838e-01+0.46398946j -8.84985838e-01-0.46398946j\n",
      " -4.88307314e-01+0.85867148j -4.88307314e-01-0.85867148j\n",
      " -8.91279709e-01+0.45175158j -8.91279709e-01-0.45175158j\n",
      "  4.50543969e-01+0.89399618j  4.50543969e-01-0.89399618j\n",
      "  9.05582185e-01+0.44527038j  9.05582185e-01-0.44527038j\n",
      "  8.67798509e-01+0.48064805j  8.67798509e-01-0.48064805j\n",
      "  8.85338305e-01+0.46386429j  8.85338305e-01-0.46386429j\n",
      " -4.60850052e-01+0.88338757j -4.60850052e-01-0.88338757j\n",
      " -4.54531475e-01+0.88919783j -4.54531475e-01-0.88919783j\n",
      "  8.94631549e-01+0.45087546j  8.94631549e-01-0.45087546j\n",
      "  4.41768918e-01+0.89615705j  4.41768918e-01-0.89615705j\n",
      "  9.23072308e-01+0.41435547j  9.23072308e-01-0.41435547j\n",
      "  8.88066230e-01+0.45388608j  8.88066230e-01-0.45388608j\n",
      "  8.94916840e-01+0.4437195j   8.94916840e-01-0.4437195j\n",
      "  9.01967936e-01+0.43286358j  9.01967936e-01-0.43286358j\n",
      "  4.37284384e-01+0.89993694j  4.37284384e-01-0.89993694j\n",
      " -8.96573312e-01+0.44450795j -8.96573312e-01-0.44450795j\n",
      " -4.43767376e-01+0.8967j     -4.43767376e-01-0.8967j\n",
      "  9.05307434e-01+0.4294258j   9.05307434e-01-0.4294258j\n",
      "  8.48390762e-01+0.47919301j  8.48390762e-01-0.47919301j\n",
      " -4.33330135e-01+0.904712j   -4.33330135e-01-0.904712j\n",
      "  4.29119352e-01+0.90225336j  4.29119352e-01-0.90225336j\n",
      " -8.56506778e-01+0.4666822j  -8.56506778e-01-0.4666822j\n",
      " -8.97419867e-01+0.43845915j -8.97419867e-01-0.43845915j\n",
      " -9.02250077e-01+0.43184041j -9.02250077e-01-0.43184041j\n",
      " -4.29906369e-01+0.90158789j -4.29906369e-01-0.90158789j\n",
      " -9.05621071e-01+0.42446178j -9.05621071e-01-0.42446178j\n",
      " -9.09384381e-01+0.4196244j  -9.09384381e-01-0.4196244j\n",
      "  4.18759045e-01+0.90532128j  4.18759045e-01-0.90532128j\n",
      "  4.19967573e-01+0.90281614j  4.19967573e-01-0.90281614j\n",
      "  9.04739758e-01+0.42093884j  9.04739758e-01-0.42093884j\n",
      " -4.33525667e-01+0.88991831j -4.33525667e-01-0.88991831j\n",
      "  3.98408663e-01+0.92585503j  3.98408663e-01-0.92585503j\n",
      " -4.20650583e-01+0.90690832j -4.20650583e-01-0.90690832j\n",
      "  9.18592024e-01+0.40331657j  9.18592024e-01-0.40331657j\n",
      "  9.07349839e-01+0.41117094j  9.07349839e-01-0.41117094j\n",
      " -9.14581313e-01+0.40834615j -9.14581313e-01-0.40834615j\n",
      " -4.11431276e-01+0.91244126j -4.11431276e-01-0.91244126j\n",
      "  4.09766240e-01+0.90887079j  4.09766240e-01-0.90887079j\n",
      "  4.01792340e-01+0.91858259j  4.01792340e-01-0.91858259j\n",
      "  9.21189021e-01+0.39407321j  9.21189021e-01-0.39407321j\n",
      "  9.07278968e-01+0.40594866j  9.07278968e-01-0.40594866j\n",
      "  3.93103909e-01+0.92000244j  3.93103909e-01-0.92000244j\n",
      " -9.83510387e-01+0.30566871j -9.83510387e-01-0.30566871j\n",
      " -9.21887705e-01+0.39802377j -9.21887705e-01-0.39802377j\n",
      " -9.03110846e-01+0.41143584j -9.03110846e-01-0.41143584j\n",
      " -9.14564405e-01+0.40316243j -9.14564405e-01-0.40316243j\n",
      " -4.03106172e-01+0.91324465j -4.03106172e-01-0.91324465j\n",
      " -9.29323175e-01+0.38167714j -9.29323175e-01-0.38167714j\n",
      " -3.95786997e-01+0.91803205j -3.95786997e-01-0.91803205j\n",
      " -3.86386425e-01+0.92448221j -3.86386425e-01-0.92448221j\n",
      " -4.09214771e-01+0.8976443j  -4.09214771e-01-0.8976443j\n",
      " -3.92292536e-01+0.9201806j  -3.92292536e-01-0.9201806j\n",
      " -9.14781475e-01+0.39336586j -9.14781475e-01-0.39336586j\n",
      " -9.22340785e-01+0.38348457j -9.22340785e-01-0.38348457j\n",
      "  9.22432963e-01+0.3871547j   9.22432963e-01-0.3871547j\n",
      "  3.83898222e-01+0.92507363j  3.83898222e-01-0.92507363j\n",
      " -3.77473463e-01+0.93060887j -3.77473463e-01-0.93060887j\n",
      " -9.26922905e-01+0.37521764j -9.26922905e-01-0.37521764j\n",
      " -9.35583173e-01+0.36384524j -9.35583173e-01-0.36384524j\n",
      "  9.24130641e-01+0.37949686j  9.24130641e-01-0.37949686j\n",
      "  9.28673763e-01+0.37341851j  9.28673763e-01-0.37341851j\n",
      " -3.66915072e-01+0.93564969j -3.66915072e-01-0.93564969j\n",
      "  3.75805989e-01+0.92897137j  3.75805989e-01-0.92897137j\n",
      " -9.30841368e-01+0.36822413j -9.30841368e-01-0.36822413j\n",
      "  9.30290956e-01+0.36786113j  9.30290956e-01-0.36786113j\n",
      "  3.62735950e-01+0.93164433j  3.62735950e-01-0.93164433j\n",
      "  3.66959148e-01+0.92927644j  3.66959148e-01-0.92927644j\n",
      " -3.72807944e-01+0.92587284j -3.72807944e-01-0.92587284j\n",
      "  3.80078186e-01+0.90785638j  3.80078186e-01-0.90785638j\n",
      "  9.32994758e-01+0.36098282j  9.32994758e-01-0.36098282j\n",
      " -3.62946753e-01+0.92903651j -3.62946753e-01-0.92903651j\n",
      " -9.37464152e-01+0.35232858j -9.37464152e-01-0.35232858j\n",
      " -9.32062556e-01+0.35375315j -9.32062556e-01-0.35375315j\n",
      "  9.34582449e-01+0.35620863j  9.34582449e-01-0.35620863j\n",
      "  3.27770643e-01+0.9581513j   3.27770643e-01-0.9581513j\n",
      " -3.54781877e-01+0.93421755j -3.54781877e-01-0.93421755j\n",
      " -9.40004149e-01+0.3428411j  -9.40004149e-01-0.3428411j\n",
      "  3.48633143e-01+0.93934369j  3.48633143e-01-0.93934369j\n",
      "  3.53639174e-01+0.93383709j  3.53639174e-01-0.93383709j\n",
      "  9.46527678e-01+0.33856601j  9.46527678e-01-0.33856601j\n",
      "  9.38476398e-01+0.3471329j   9.38476398e-01-0.3471329j\n",
      " -9.40274698e-01+0.33653563j -9.40274698e-01-0.33653563j\n",
      " -3.47130408e-01+0.93904029j -3.47130408e-01-0.93904029j\n",
      " -3.43370681e-01+0.93973977j -3.43370681e-01-0.93973977j\n",
      "  3.41610959e-01+0.94162507j  3.41610959e-01-0.94162507j\n",
      "  9.35883629e-01+0.34157528j  9.35883629e-01-0.34157528j\n",
      " -3.33037636e-01+0.94284777j -3.33037636e-01-0.94284777j\n",
      " -9.44804124e-01+0.32804825j -9.44804124e-01-0.32804825j\n",
      "  3.33617842e-01+0.9417035j   3.33617842e-01-0.9417035j\n",
      " -3.26938574e-01+0.94418235j -3.26938574e-01-0.94418235j\n",
      "  9.43994685e-01+0.3299397j   9.43994685e-01-0.3299397j\n",
      " -9.46752591e-01+0.31951699j -9.46752591e-01-0.31951699j\n",
      " -9.38057096e-01+0.32475549j -9.38057096e-01-0.32475549j\n",
      "  9.46897977e-01+0.31956872j  9.46897977e-01-0.31956872j\n",
      " -3.18542992e-01+0.94745736j -3.18542992e-01-0.94745736j\n",
      "  3.24347851e-01+0.94222762j  3.24347851e-01-0.94222762j\n",
      "  3.21470049e-01+0.94539333j  3.21470049e-01-0.94539333j\n",
      " -9.49154069e-01+0.31176329j -9.49154069e-01-0.31176329j\n",
      " -9.57409183e-01+0.30432572j -9.57409183e-01-0.30432572j\n",
      " -3.27441959e-01+0.92955881j -3.27441959e-01-0.92955881j\n",
      " -3.08610980e-01+0.95445522j -3.08610980e-01-0.95445522j\n",
      " -3.10785400e-01+0.94824677j -3.10785400e-01-0.94824677j\n",
      "  2.87312758e-01+0.96779615j  2.87312758e-01-0.96779615j\n",
      "  3.12866511e-01+0.95037932j  3.12866511e-01-0.95037932j\n",
      "  9.35972402e-01+0.32317119j  9.35972402e-01-0.32317119j\n",
      " -2.80828489e-01+0.96918135j -2.80828489e-01-0.96918135j\n",
      "  9.48396343e-01+0.31390044j  9.48396343e-01-0.31390044j\n",
      "  9.53927903e-01+0.30681023j  9.53927903e-01-0.30681023j\n",
      "  3.04248878e-01+0.95225483j  3.04248878e-01-0.95225483j\n",
      "  9.54243523e-01+0.30203218j  9.54243523e-01-0.30203218j\n",
      "  9.62171646e-01+0.29177326j  9.62171646e-01-0.29177326j\n",
      " -9.58965937e-01+0.29163085j -9.58965937e-01-0.29163085j\n",
      " -9.54046341e-01+0.29935847j -9.54046341e-01-0.29935847j\n",
      "  9.65182584e-01+0.28720539j  9.65182584e-01-0.28720539j\n",
      "  3.64639137e-01+0.89182458j  3.64639137e-01-0.89182458j\n",
      " -2.98635159e-01+0.95582998j -2.98635159e-01-0.95582998j\n",
      "  2.98493805e-01+0.95501015j  2.98493805e-01-0.95501015j\n",
      " -2.93431494e-01+0.9548196j  -2.93431494e-01-0.9548196j\n",
      " -2.32365121e-01+0.99593294j -2.32365121e-01-0.99593294j\n",
      " -9.55211432e-01+0.28700618j -9.55211432e-01-0.28700618j\n",
      "  9.54595483e-01+0.29001024j  9.54595483e-01-0.29001024j\n",
      "  2.90961752e-01+0.95427003j  2.90961752e-01-0.95427003j\n",
      "  2.82396701e-01+0.96212943j  2.82396701e-01-0.96212943j\n",
      " -2.84159222e-01+0.95658681j -2.84159222e-01-0.95658681j\n",
      "  1.41940647e-01+1.03249979j  1.41940647e-01-1.03249979j\n",
      " -9.63245173e-01+0.27661931j -9.63245173e-01-0.27661931j\n",
      " -9.57637304e-01+0.28018569j -9.57637304e-01-0.28018569j\n",
      " -9.64706373e-01+0.26911698j -9.64706373e-01-0.26911698j\n",
      "  9.59576137e-01+0.27848027j  9.59576137e-01-0.27848027j\n",
      " -9.66091550e-01+0.25986655j -9.66091550e-01-0.25986655j\n",
      " -2.77987474e-01+0.96140283j -2.77987474e-01-0.96140283j\n",
      "  2.68498385e-01+0.96682242j  2.68498385e-01-0.96682242j\n",
      "  9.64365790e-01+0.27041127j  9.64365790e-01-0.27041127j\n",
      "  2.72898476e-01+0.96260379j  2.72898476e-01-0.96260379j\n",
      " -2.69856834e-01+0.96322551j -2.69856834e-01-0.96322551j\n",
      "  9.65741699e-01+0.26299815j  9.65741699e-01-0.26299815j\n",
      " -2.56380250e-01+0.97102264j -2.56380250e-01-0.97102264j\n",
      "  2.52430954e-01+0.97305954j  2.52430954e-01-0.97305954j\n",
      "  2.60256467e-01+0.96729336j  2.60256467e-01-0.96729336j\n",
      " -2.63755300e-01+0.96366127j -2.63755300e-01-0.96366127j\n",
      " -9.67535933e-01+0.25296382j -9.67535933e-01-0.25296382j\n",
      " -9.68447273e-01+0.24777273j -9.68447273e-01-0.24777273j\n",
      " -2.50629642e-01+0.96489769j -2.50629642e-01-0.96489769j\n",
      " -2.44390457e-01+0.96976073j -2.44390457e-01-0.96976073j\n",
      " -2.33157034e-01+0.97082858j -2.33157034e-01-0.97082858j\n",
      " -9.72984282e-01+0.23961179j -9.72984282e-01-0.23961179j\n",
      "  9.67024823e-01+0.25583407j  9.67024823e-01-0.25583407j\n",
      "  9.74251031e-01+0.24589341j  9.74251031e-01-0.24589341j\n",
      "  2.53742269e-01+0.96537676j  2.53742269e-01-0.96537676j\n",
      " -9.70025024e-01+0.23291737j -9.70025024e-01-0.23291737j\n",
      " -9.72976249e-01+0.22950738j -9.72976249e-01-0.22950738j\n",
      "  9.66064702e-01+0.24486602j  9.66064702e-01-0.24486602j\n",
      "  2.38317560e-01+0.97234055j  2.38317560e-01-0.97234055j\n",
      "  9.71592714e-01+0.2364055j   9.71592714e-01-0.2364055j\n",
      "  2.43985033e-01+0.96398509j  2.43985033e-01-0.96398509j\n",
      "  9.74093795e-01+0.22884809j  9.74093795e-01-0.22884809j\n",
      " -9.75492381e-01+0.22180255j -9.75492381e-01-0.22180255j\n",
      "  2.20318648e-01+0.9804794j   2.20318648e-01-0.9804794j\n",
      "  1.01308608e+00+0.15485291j  1.01308608e+00-0.15485291j\n",
      " -9.76766808e-01+0.21341611j -9.76766808e-01-0.21341611j\n",
      "  2.31548430e-01+0.97102343j  2.31548430e-01-0.97102343j\n",
      " -9.79339065e-01+0.20675835j -9.79339065e-01-0.20675835j\n",
      " -2.29448934e-01+0.97180837j -2.29448934e-01-0.97180837j\n",
      " -2.21751815e-01+0.97628554j -2.21751815e-01-0.97628554j\n",
      "  2.20323337e-01+0.9732047j   2.20323337e-01-0.9732047j\n",
      " -2.17427782e-01+0.97310979j -2.17427782e-01-0.97310979j\n",
      " -2.07388928e-01+0.97897838j -2.07388928e-01-0.97897838j\n",
      "  2.11854769e-01+0.97798879j  2.11854769e-01-0.97798879j\n",
      " -9.80182234e-01+0.19950056j -9.80182234e-01-0.19950056j\n",
      "  2.04673648e-01+0.98079152j  2.04673648e-01-0.98079152j\n",
      " -2.01137225e-01+0.977947j   -2.01137225e-01-0.977947j\n",
      " -1.96250877e-01+0.97996027j -1.96250877e-01-0.97996027j\n",
      " -9.80030450e-01+0.19097605j -9.80030450e-01-0.19097605j\n",
      "  1.94243326e-01+0.98222306j  1.94243326e-01-0.98222306j\n",
      " -9.82936350e-01+0.18652512j -9.82936350e-01-0.18652512j\n",
      " -9.84592288e-01+0.17813184j -9.84592288e-01-0.17813184j\n",
      "  1.01881156e+00+0.12033858j  1.01881156e+00-0.12033858j\n",
      " -9.84451992e-01+0.17566293j -9.84451992e-01-0.17566293j\n",
      "  9.78336656e-01+0.21311451j  9.78336656e-01-0.21311451j\n",
      "  9.84005629e-01+0.20253866j  9.84005629e-01-0.20253866j\n",
      "  9.68039791e-01+0.22217874j  9.68039791e-01-0.22217874j\n",
      "  9.76217435e-01+0.20833413j  9.76217435e-01-0.20833413j\n",
      "  9.51358741e-01+0.22484791j  9.51358741e-01-0.22484791j\n",
      "  9.81177452e-01+0.1896082j   9.81177452e-01-0.1896082j\n",
      "  9.74917934e-01+0.19905705j  9.74917934e-01-0.19905705j\n",
      "  9.86195910e-01+0.17411413j  9.86195910e-01-0.17411413j\n",
      "  9.81916844e-01+0.1812253j   9.81916844e-01-0.1812253j\n",
      " -9.87609349e-01+0.16736973j -9.87609349e-01-0.16736973j\n",
      " -1.78161445e-01+0.98762396j -1.78161445e-01-0.98762396j\n",
      "  1.77950503e-01+0.98690482j  1.77950503e-01-0.98690482j\n",
      "  1.81171412e-01+0.98467092j  1.81171412e-01-0.98467092j\n",
      " -1.85520087e-01+0.98284334j -1.85520087e-01-0.98284334j\n",
      " -9.88652117e-01+0.1599491j  -9.88652117e-01-0.1599491j\n",
      "  9.86295755e-01+0.16577024j  9.86295755e-01-0.16577024j\n",
      "  9.88336689e-01+0.16094134j  9.88336689e-01-0.16094134j\n",
      "  1.68791267e-01+0.98654465j  1.68791267e-01-0.98654465j\n",
      "  1.88495273e-01+0.97588968j  1.88495273e-01-0.97588968j\n",
      " -1.72856268e-01+0.98423231j -1.72856268e-01-0.98423231j\n",
      " -1.60585436e-01+0.99123214j -1.60585436e-01-0.99123214j\n",
      "  9.88509738e-01+0.1519024j   9.88509738e-01-0.1519024j\n",
      "  1.58020729e-01+0.98764551j  1.58020729e-01-0.98764551j\n",
      "  1.56530899e-01+0.98580218j  1.56530899e-01-0.98580218j\n",
      "  1.93235860e-01+0.97024733j  1.93235860e-01-0.97024733j\n",
      "  9.89972922e-01+0.14360642j  9.89972922e-01-0.14360642j\n",
      " -1.58872454e-01+0.98668086j -1.58872454e-01-0.98668086j\n",
      " -9.91528684e-01+0.15095084j -9.91528684e-01-0.15095084j\n",
      " -1.01406604e+00+0.08237204j -1.01406604e+00-0.08237204j\n",
      " -9.89749071e-01+0.1431212j  -9.89749071e-01-0.1431212j\n",
      " -1.47918453e-01+0.99270772j -1.47918453e-01-0.99270772j\n",
      " -9.92132431e-01+0.12921892j -9.92132431e-01-0.12921892j\n",
      " -9.89528264e-01+0.13561926j -9.89528264e-01-0.13561926j\n",
      "  9.89804071e-01+0.13723077j  9.89804071e-01-0.13723077j\n",
      " -9.93609560e-01+0.11959986j -9.93609560e-01-0.11959986j\n",
      " -9.85077085e-01+0.15253562j -9.85077085e-01-0.15253562j\n",
      " -1.01589448e+00+0.j          1.48625789e-01+0.99106467j\n",
      "  1.48625789e-01-0.99106467j  9.92952992e-01+0.12792243j\n",
      "  9.92952992e-01-0.12792243j -9.93147067e-01+0.11430961j\n",
      " -9.93147067e-01-0.11430961j  9.93615359e-01+0.12125876j\n",
      "  9.93615359e-01-0.12125876j -1.53550368e-01+0.98344987j\n",
      " -1.53550368e-01-0.98344987j  1.00131728e+00+0.09767563j\n",
      "  1.00131728e+00-0.09767563j -1.32037144e-01+0.99489681j\n",
      " -1.32037144e-01-0.99489681j -1.37539409e-01+0.98978179j\n",
      " -1.37539409e-01-0.98978179j -9.97928791e-01+0.10049932j\n",
      " -9.97928791e-01-0.10049932j -9.95004365e-01+0.10333137j\n",
      " -9.95004365e-01-0.10333137j  9.95210840e-01+0.10594363j\n",
      "  9.95210840e-01-0.10594363j -1.10080913e-01+0.99867812j\n",
      " -1.10080913e-01-0.99867812j -1.26486825e-01+0.9909263j\n",
      " -1.26486825e-01-0.9909263j   1.39083401e-01+0.98850846j\n",
      "  1.39083401e-01-0.98850846j  1.28281216e-01+0.99177388j\n",
      "  1.28281216e-01-0.99177388j  1.35032725e-01+0.98848232j\n",
      "  1.35032725e-01-0.98848232j -9.95961937e-01+0.09497551j\n",
      " -9.95961937e-01-0.09497551j  1.19601221e-01+0.99273685j\n",
      "  1.19601221e-01-0.99273685j  1.15601243e-01+0.99469714j\n",
      "  1.15601243e-01-0.99469714j  9.90553677e-01+0.10579011j\n",
      "  9.90553677e-01-0.10579011j  1.04748787e-01+0.99512553j\n",
      "  1.04748787e-01-0.99512553j -9.98703530e-01+0.06678684j\n",
      " -9.98703530e-01-0.06678684j -9.98076227e-01+0.07569288j\n",
      " -9.98076227e-01-0.07569288j  4.37566766e-03+1.02073199j\n",
      "  4.37566766e-03-1.02073199j  1.00756491e+00+0.0540337j\n",
      "  1.00756491e+00-0.0540337j  -9.99505710e-01+0.06182291j\n",
      " -9.99505710e-01-0.06182291j -1.68337466e-01+0.96690632j\n",
      " -1.68337466e-01-0.96690632j  9.47464740e-02+0.99661474j\n",
      "  9.47464740e-02-0.99661474j -1.12558029e-01+0.99144519j\n",
      " -1.12558029e-01-0.99144519j -9.01108378e-02+0.99794391j\n",
      " -9.01108378e-02-0.99794391j -9.82890030e-02+0.99564411j\n",
      " -9.82890030e-02-0.99564411j  1.03574260e-01+0.990547j\n",
      "  1.03574260e-01-0.990547j   -1.00206533e+00+0.04301397j\n",
      " -1.00206533e+00-0.04301397j -1.00373252e+00+0.01335168j\n",
      " -1.00373252e+00-0.01335168j  9.94153236e-01+0.08940693j\n",
      "  9.94153236e-01-0.08940693j  9.95691523e-01+0.08303021j\n",
      "  9.95691523e-01-0.08303021j  9.98452433e-01+0.06791355j\n",
      "  9.98452433e-01-0.06791355j  8.57888542e-02+0.99738497j\n",
      "  8.57888542e-02-0.99738497j  9.97954064e-01+0.05924534j\n",
      "  9.97954064e-01-0.05924534j -6.35258759e-02+1.00228083j\n",
      " -6.35258759e-02-1.00228083j -1.17070014e-01+0.98450341j\n",
      " -1.17070014e-01-0.98450341j -8.15378669e-02+0.99532214j\n",
      " -8.15378669e-02-0.99532214j  9.99984435e-01+0.j\n",
      " -9.95023842e-01+0.08007991j -9.95023842e-01-0.08007991j\n",
      " -9.98761441e-01+0.005822j   -9.98761441e-01-0.005822j\n",
      " -9.97572396e-01+0.03953333j -9.97572396e-01-0.03953333j\n",
      "  9.95193242e-01+0.07387132j  9.95193242e-01-0.07387132j\n",
      "  1.00045807e+00+0.03268563j  1.00045807e+00-0.03268563j\n",
      "  1.00136454e+00+0.02658943j  1.00136454e+00-0.02658943j\n",
      "  9.98925232e-01+0.04236237j  9.98925232e-01-0.04236237j\n",
      " -5.73841974e-02+0.99870812j -5.73841974e-02-0.99870812j\n",
      " -4.85300042e-02+0.99813831j -4.85300042e-02-0.99813831j\n",
      " -4.28544581e-02+0.99941116j -4.28544581e-02-0.99941116j\n",
      " -7.74557028e-02+0.99677115j -7.74557028e-02-0.99677115j\n",
      " -3.42840188e-02+1.00108616j -3.42840188e-02-1.00108616j\n",
      "  7.53693076e-02+0.99810468j  7.53693076e-02-0.99810468j\n",
      "  6.80727603e-02+1.00052088j  6.80727603e-02-1.00052088j\n",
      " -5.53912909e-03+1.00322507j -5.53912909e-03-1.00322507j\n",
      " -1.82933658e-03+1.00225582j -1.82933658e-03-1.00225582j\n",
      "  1.56683995e-02+1.0026093j   1.56683995e-02-1.0026093j\n",
      "  1.00007022e+00+0.01549568j  1.00007022e+00-0.01549568j\n",
      "  1.00024979e+00+0.01012948j  1.00024979e+00-0.01012948j\n",
      "  2.88542076e-02+1.00190574j  2.88542076e-02-1.00190574j\n",
      " -7.04816727e-02+0.99708504j -7.04816727e-02-0.99708504j\n",
      "  3.36559670e-02+1.00122164j  3.36559670e-02-1.00122164j\n",
      " -1.43278400e-02+0.99994689j -1.43278400e-02-0.99994689j\n",
      "  4.79355928e-03+0.99934618j  4.79355928e-03-0.99934618j\n",
      "  9.96172193e-01+0.0480782j   9.96172193e-01-0.0480782j\n",
      " -9.94605678e-01+0.05348518j -9.94605678e-01-0.05348518j\n",
      " -9.99365477e-01+0.02631939j -9.99365477e-01-0.02631939j\n",
      " -9.97936770e-01+0.03003554j -9.97936770e-01-0.03003554j\n",
      "  6.25974357e-02+0.9980755j   6.25974357e-02-0.9980755j\n",
      "  4.64656905e-02+0.99861575j  4.64656905e-02-0.99861575j\n",
      " -2.17998880e-02+0.99763242j -2.17998880e-02-0.99763242j\n",
      "  5.35691432e-02+0.99596307j  5.35691432e-02-0.99596307j\n",
      "  4.31053360e-02+0.99603584j  4.31053360e-02-0.99603584j\n",
      "  2.11062444e-02+0.99709575j  2.11062444e-02-0.99709575j\n",
      " -2.83837686e-02+0.99562789j -2.83837686e-02-0.99562789j\n",
      " -9.94692929e-01+0.01661988j -9.94692929e-01-0.01661988j\n",
      " -9.07807897e-02+0.98404296j -9.07807897e-02-0.98404296j\n",
      " -9.84204399e-01+0.08496303j -9.84204399e-01-0.08496303j\n",
      "  9.89933004e-01+0.02080267j  9.89933004e-01-0.02080267j\n",
      "  8.40257180e-02+0.99004946j  8.40257180e-02-0.99004946j\n",
      "  9.70702170e-01+0.11330574j  9.70702170e-01-0.11330574j\n",
      " -9.18664057e-01+0.21927464j -9.18664057e-01-0.21927464j\n",
      " -9.20652791e-01+0.j         -4.40636935e-02+0.93125334j\n",
      " -4.40636935e-02-0.93125334j  9.10621254e-01+0.05642118j\n",
      "  9.10621254e-01-0.05642118j -3.81359754e-01+0.76699801j\n",
      " -3.81359754e-01-0.76699801j  6.49615950e-01+0.j\n",
      " -2.03323174e-01+0.j        ]\n"
     ]
    }
   ],
   "source": [
    "# Your code goes here.\n",
    "\n",
    "polynomials_1 = np.array([1,-2,1])\n",
    "print(np.roots(polynomials_1))\n",
    "\n",
    "polynomials_2 = np.random.randint(-127,127,size=1000)\n",
    "print(np.roots(polynomials_2))"
   ]
  },
  {
   "cell_type": "markdown",
   "id": "ffdd2f41-7497-4cc5-a177-3b7ac9ec1816",
   "metadata": {},
   "source": [
    "<h2> Solvings ODEs with Scipy</h2>\n",
    "\n",
    "Ordinary differential equations (ODEs) can be used to model a huge range of physical systems-from predicting the trajectory of a rocket, to understanding the factors that affect population growth. The general approach used is to first write down a set of equations,  describing how quantities in the system change. For example, we might represent the population on the planet earth with a variable N. If over some duration of time (say 1 month), we expect some fraction of people to die (say $\\alpha$), then we can write the equation:\n",
    "\n",
    "$$dN/dt = -\\alpha N$$\n",
    "\n",
    "We can then predict how the population will change over time (for a particular death rate) by solving the equation. If we wanted to improve the model, by say, considering births as well, then we can introduce a second term to represent this-for example, we could assume that some proportion of the population ($\\beta$) gives birth. This would lead to a new equation:\n",
    "\n",
    "$$dN/dt = -\\alpha N + \\beta N$$\n",
    "\n",
    "In your other courses, you have seen a number of techniques for solving ODEs. Here, we will look at how we can use Python to numerically integrate an equation like this. We won't go too much into the details of how this happens-you'll see a lot more on this in later courses. Our focus is on being able to write the code we need to solve ODE models.\n",
    "\n",
    "<h3> Numerical integration with Scipy </h3>\n",
    "\n",
    "To perform numerical integration with Python, we'll need to use a library which contains the necessary functionality- in this case, we'll use Scipy's odeint functionality. If you don't have this installed, you will need to install it (for example, by running in a terminal ```pip3 install scipy```).\n",
    "\n",
    "To integrate an ODE with Scipy, we'll use the <a href=https://docs.scipy.org/doc/scipy-1.15.0/reference/generated/scipy.integrate.odeint.html>odeint</a> function.\n",
    "\n",
    "Let's take a quick look at the documentation for this function:\n",
    "\n",
    "<img src=\"https://github.com/engmaths/SEMT10002_2024/blob/main/img/odeint1.png?raw=true\" width=\"60%\">\n",
    "\n",
    "\n",
    "Here, we can see that odeint is a function with 3 required arguments (func, y0, t) and 19(!!) optional arguments. We can also see that ths function will *Integrate a system of ordinary differential equations* by solving the initial value problem for  systems of first order ode-s:\n",
    "\n",
    "$dy/dt = func(y, t, args) $ \n",
    "\n",
    "where y can be a vector. Fortunately, all of the optional arguments have default values, so we can assume (for now) that these are reasonable and just focus on understanding the three things that we need to provide. Scrolling down the documentation page, we get further information on what we need to provide for the function to work:\n",
    "\n",
    "<img src=\"https://github.com/engmaths/SEMT10002_2024/blob/main/img/odeint2.png?raw=true\" width=\"60%\">\n",
    "\n",
    "This tells us that the first argument (*func*) needs to be a callable (i.e. a function) that calculates the derivative of y at time t. The second argument y0 is an array that defines the initial condition and  the third argument t0 is an array that defines the time points for which to solve y for. It also tells us that the odeint function will return an array y (with shape len(t), len(y0). This array will contain the value of y for each desired time in t, with the initial value y0 in the first row.\n",
    "\n",
    "The code below shows how we can use odeint to integrate our model of population growth."
   ]
  },
  {
   "cell_type": "code",
   "execution_count": 69,
   "id": "1bfebbf2-cb12-46ef-934f-a5a0bdce853a",
   "metadata": {},
   "outputs": [
    {
     "data": {
      "image/png": "[encoded data removed]",
      "text/plain": [
       "<Figure size 1200x1200 with 9 Axes>"
      ]
     },
     "metadata": {},
     "output_type": "display_data"
    }
   ],
   "source": [
    "import numpy as np\n",
    "from scipy.integrate import odeint\n",
    "import matplotlib.pyplot as plt\n",
    "\n",
    "# This function defines the right-hand side of the equation we want to integrate\n",
    "def gradient(N, t, alpha, beta):\n",
    "    return -alpha * N + beta * N\n",
    "\n",
    "# Values for alpha and beta\n",
    "a_values = [0.1, 0.2, 0.3]\n",
    "b_values = [0.05, 0.06, 0.07]\n",
    "\n",
    "# Create a figure with 9 subplots (3x3 grid)\n",
    "fig, axes = plt.subplots(3, 3, figsize=(12, 12))\n",
    "\n",
    "# Loop through the combinations of alpha and beta\n",
    "for i, alpha in enumerate(a_values):\n",
    "    for j, beta in enumerate(b_values):\n",
    "        # Initial population size\n",
    "        N0 = 100\n",
    "        # Time steps for integration\n",
    "        t = np.linspace(0, 100, 500)\n",
    "        # Perform integration\n",
    "        N = odeint(gradient, N0, t, args=(alpha, beta))\n",
    "        # Select the subplot for this combination\n",
    "        ax = axes[i, j]\n",
    "        # Plot the result\n",
    "        ax.plot(t, N, label=f\"$\\\\alpha={alpha}, \\\\beta={beta}$\")\n",
    "        # Add labels and title\n",
    "        ax.set_xlabel(\"Time (months)\")\n",
    "        ax.set_ylabel(\"Population size (N)\")\n",
    "        ax.legend()\n",
    "\n",
    "plt.tight_layout()\n",
    "plt.show()\n"
   ]
  },
  {
   "cell_type": "markdown",
   "id": "50b17b8b-e59c-4896-8403-1f37d74db937",
   "metadata": {},
   "source": [
    "This code begins by importing some libraries that we will need. We then define a function for calculating the gradient of our system. This function must always have two arguments- the first represents the current state of the system (and can be a number, or a numpy array), the second represents the current timestep. The gradient may also have some optional parameters- here we use this to pass the values of $\\alpha$ and $\\beta$. \n",
    "\n",
    "We then create some variables to represent our initial population (N0) and paramaters ($\\alpha$ and $\\beta$). We create a sequence of time points for the integration with the line ```t = np.linspace(0, 100)```. Then we perform the integration with odeint- here we must provide the gradient function as the first argument, the initial condition as the second argument and then any paramaters as a tuple. Finally, we plot the result. \n",
    "\n",
    "Here, as the death rate ($\\alpha$ = 0.1) is bigger than the death rate ($\\beta = 0.05$), the population dies out.\n",
    "\n",
    "**Exercise**: Modify the code above to repeat the integration with 3 different values of $\\alpha$ and 3 different values of $\\beta$ (i.e 9 times in total). Plot the results on a single figure, with 9 axes. Label each axes with the values of $\\alpha$ and $\\beta$. Hint: If you can't remember how to do this, review the matplotlib worksheet.\n"
   ]
  },
  {
   "cell_type": "markdown",
   "id": "77bacace-e96f-43fb-b8c7-caaf12df3eb0",
   "metadata": {},
   "source": [
    "<h3> Understanding epidemics with the SIR model </h3>\n",
    "\n",
    "A simple model for understanding the spread (or not) of a disease through the population is the (S)usceptible, (I)nfected, (R)emoved model. Here, the population is divided into three categories- those who have not yet had the disease are susceptible. Those who have it are infected, and those who have recovered (or died) are removed. The equations describing the model are as follows, with N the size of the population:\n",
    "\n",
    "$$dS/dT = (-\\beta * S * I) / N$$\n",
    "$$dI/dT = (\\beta * S * I) / N - \\gamma * I$$\n",
    "$$dR/dT = \\gamma * I$$\n",
    "\n",
    "\n",
    "Essentially, this assumes that some fraction of the susceptible people will interact with the infected, catching the disease proportional to the parameter $\\beta$. These people become infected, and so are subtracted from the count of susceptible people. As these are now infected, we need to also add the same amount of the number of infected. At the same time, some proportion of the infected people ($\\gamma$) recover. We need to subtract this number from I, and add it to R. \n",
    "\n",
    "We can solve this system in Python with the following code:"
   ]
  },
  {
   "cell_type": "code",
   "execution_count": 70,
   "id": "edbc6ebe-b358-4073-b5e8-9fa625ce0708",
   "metadata": {},
   "outputs": [
    {
     "data": {
      "image/png": "[encoded data removed]",
      "text/plain": [
       "<Figure size 640x480 with 3 Axes>"
      ]
     },
     "metadata": {},
     "output_type": "display_data"
    }
   ],
   "source": [
    "import matplotlib.pyplot as plt \n",
    "from scipy.integrate import odeint \n",
    "import numpy as np \n",
    "\n",
    "#Let's use a population of 1000 people\n",
    "N = 1000 \n",
    "#S represents the number of susceptible people; we'll start our model with one infected, with means S=N-1\n",
    "S = N-1 \n",
    "#I represents the number of infected people; we'll leave start this at one.\n",
    "I = 1 \n",
    "#R represents the number of people removed (either due to recovery or death). We start this at zero.\n",
    "R = 0 \n",
    "\n",
    "def diff_sir(sir, t, beta, gamma):\n",
    "\n",
    "\t'''\n",
    "\tCalculates the gradient for an SIR model of disease spread\n",
    "\tInputs:\n",
    "\t\tsir: state of the system, with sir[0] = number susceptible\n",
    "\t\t\t\t\t\t\t\t\t   sir[1] = number infected\n",
    "\t\t\t\t\t\t\t\t\t   sir[2] = number recovered\n",
    "\t\tt: current time- not used here, but odeint expects to pass this argument so we must include it\n",
    "\t\tbeta: the rate at which the virus spreads\n",
    "\t\tgamma: the rate at which people are removed due to the virus\n",
    "\tOutputs:\n",
    "\t\tthe gradient of the SIR model\n",
    "\t'''\n",
    "\n",
    "\tdsdt = (-beta*sir[0] * sir[1])/N \n",
    "\tdidt = (beta*sir[0]*sir[1])/N - (gamma * sir[1])\n",
    "\tdrdt = gamma * sir[1]\n",
    "\n",
    "\tgrad = [dsdt, didt, drdt]\n",
    "\n",
    "\treturn grad \n",
    "\n",
    "def solve_sir(sir0, t_max, beta, gamma):\n",
    "\t'''\n",
    "\tSolves an SIR model using odeint.\n",
    "\t'''\n",
    "\n",
    "\tt = np.linspace(0, t_max)\n",
    "\tsir = odeint(diff_sir, sir0, t, (beta, gamma))\n",
    "\n",
    "\treturn sir, t \n",
    "\n",
    "def plot_sir(t, data):\n",
    "\n",
    "\tfig = plt.figure()\n",
    "\tax1 = fig.add_subplot(311)\n",
    "\tax1.plot(t, data[:, 0], label='S(t)')\n",
    "\tax2 = fig.add_subplot(312)\n",
    "\tax2.plot(t, data[:, 1], label='I(t)')\n",
    "\tax3 = fig.add_subplot(313)\n",
    "\tax3.plot(t, data[:, 2], label='R(t)')\n",
    "\tplt.tight_layout()\n",
    "\n",
    "def main():\n",
    "\n",
    "\t#Set values for model parameters here.\n",
    "\tbeta = 0.4\n",
    "\tgamma = 0.2 \n",
    "\t#Let's solve for 100 time steps\n",
    "\tt_max = 100 \n",
    "\t#Create a tuple to represent the initial conditions\n",
    "\tsir0 = (S, I, R)\n",
    "\t#Solve the model\n",
    "\tsir, t = solve_sir(sir0, t_max, beta, gamma)\n",
    "\t#Plot the results\n",
    "\tplot_sir(t, sir)\n",
    "\n",
    "main()"
   ]
  },
  {
   "cell_type": "markdown",
   "id": "8c596584-3fda-4276-9250-280adf1c1a7a",
   "metadata": {},
   "source": [
    "**Task 3**:A variation on the SIR  model is the SIS model, in which those who recover from the disease can become re-infected again. The equations for describing this system are:\n",
    "\n",
    "$$dS/dT = (-\\beta * S * I) / N + \\gamma * I$$\n",
    "$$dI/dT = (\\beta * S * I) / N - \\gamma * I$$\n",
    "\n",
    "Extend the code above to also solve this system. You'll need to define a new function for calculating the gradient (i.e \"diff_SIS\") and another function to solving the ODE (i.e \"solve_SIS\"). Plot the results of both models on a single figure."
   ]
  },
  {
   "cell_type": "code",
   "execution_count": 74,
   "id": "cd8b1613",
   "metadata": {},
   "outputs": [
    {
     "ename": "IndexError",
     "evalue": "index 2 is out of bounds for axis 1 with size 2",
     "output_type": "error",
     "traceback": [
      "\u001b[1;31m---------------------------------------------------------------------------\u001b[0m",
      "\u001b[1;31mIndexError\u001b[0m                                Traceback (most recent call last)",
      "Cell \u001b[1;32mIn[74], line 87\u001b[0m\n\u001b[0;32m     84\u001b[0m \t\u001b[38;5;66;03m#Plot the results\u001b[39;00m\n\u001b[0;32m     85\u001b[0m \tplot_sir(t, sir)\n\u001b[1;32m---> 87\u001b[0m \u001b[43mmain\u001b[49m\u001b[43m(\u001b[49m\u001b[43m)\u001b[49m\n",
      "Cell \u001b[1;32mIn[74], line 85\u001b[0m, in \u001b[0;36mmain\u001b[1;34m()\u001b[0m\n\u001b[0;32m     83\u001b[0m sir, t \u001b[38;5;241m=\u001b[39m solve_sis(sir0, t_max, beta, gamma)\n\u001b[0;32m     84\u001b[0m \u001b[38;5;66;03m#Plot the results\u001b[39;00m\n\u001b[1;32m---> 85\u001b[0m \u001b[43mplot_sir\u001b[49m\u001b[43m(\u001b[49m\u001b[43mt\u001b[49m\u001b[43m,\u001b[49m\u001b[43m \u001b[49m\u001b[43msir\u001b[49m\u001b[43m)\u001b[49m\n",
      "Cell \u001b[1;32mIn[74], line 70\u001b[0m, in \u001b[0;36mplot_sir\u001b[1;34m(t, data)\u001b[0m\n\u001b[0;32m     68\u001b[0m ax2\u001b[38;5;241m.\u001b[39mplot(t, data[:, \u001b[38;5;241m1\u001b[39m], label\u001b[38;5;241m=\u001b[39m\u001b[38;5;124m'\u001b[39m\u001b[38;5;124mI(t)\u001b[39m\u001b[38;5;124m'\u001b[39m)\n\u001b[0;32m     69\u001b[0m ax3 \u001b[38;5;241m=\u001b[39m fig\u001b[38;5;241m.\u001b[39madd_subplot(\u001b[38;5;241m313\u001b[39m)\n\u001b[1;32m---> 70\u001b[0m ax3\u001b[38;5;241m.\u001b[39mplot(t, \u001b[43mdata\u001b[49m\u001b[43m[\u001b[49m\u001b[43m:\u001b[49m\u001b[43m,\u001b[49m\u001b[43m \u001b[49m\u001b[38;5;241;43m2\u001b[39;49m\u001b[43m]\u001b[49m, label\u001b[38;5;241m=\u001b[39m\u001b[38;5;124m'\u001b[39m\u001b[38;5;124mR(t)\u001b[39m\u001b[38;5;124m'\u001b[39m)\n\u001b[0;32m     71\u001b[0m plt\u001b[38;5;241m.\u001b[39mtight_layout()\n",
      "\u001b[1;31mIndexError\u001b[0m: index 2 is out of bounds for axis 1 with size 2"
     ]
    },
    {
     "data": {
      "image/png": "[encoded data removed]",
      "text/plain": [
       "<Figure size 640x480 with 3 Axes>"
      ]
     },
     "metadata": {},
     "output_type": "display_data"
    }
   ],
   "source": [
    "import matplotlib.pyplot as plt \n",
    "from scipy.integrate import odeint \n",
    "import numpy as np \n",
    "\n",
    "#Let's use a population of 1000 people\n",
    "N = 1000 \n",
    "#S represents the number of susceptible people; we'll start our model with one infected, with means S=N-1\n",
    "S = N-1 \n",
    "#I represents the number of infected people; we'll leave start this at one.\n",
    "I = 1 \n",
    "#R represents the number of people removed (either due to recovery or death). We start this at zero.\n",
    "R = 0 \n",
    "\n",
    "def diff_sis(sis, t, beta, gamma):\n",
    "\tdsdt = (-beta*sis[0]*sis[1])/N+gamma*sis[1]\n",
    "\tdidt = (beta*sis[0]*sis[1])/N-gamma*sis[1]\n",
    "\tgrad = [dsdt, didt]\n",
    "\treturn grad\n",
    "\n",
    "\n",
    "\n",
    "\n",
    "def diff_sir(sir, t, beta, gamma):\n",
    "\n",
    "\t'''\n",
    "\tCalculates the gradient for an SIR model of disease spread\n",
    "\tInputs:\n",
    "\t\tsir: state of the system, with sir[0] = number susceptible\n",
    "\t\t\t\t\t\t\t\t\t   sir[1] = number infected\n",
    "\t\t\t\t\t\t\t\t\t   sir[2] = number recovered\n",
    "\t\tt: current time- not used here, but odeint expects to pass this argument so we must include it\n",
    "\t\tbeta: the rate at which the virus spreads\n",
    "\t\tgamma: the rate at which people are removed due to the virus\n",
    "\tOutputs:\n",
    "\t\tthe gradient of the SIR model\n",
    "\t'''\n",
    "\n",
    "\tdsdt = (-beta*sir[0] * sir[1])/N \n",
    "\tdidt = (beta*sir[0]*sir[1])/N - (gamma * sir[1])\n",
    "\tdrdt = gamma * sir[1]\n",
    "\n",
    "\tgrad = [dsdt, didt, drdt]\n",
    "\n",
    "\treturn grad \n",
    "\n",
    "def solve_sir(sir0, t_max, beta, gamma):\n",
    "\t'''\n",
    "\tSolves an SIR model using odeint.\n",
    "\t'''\n",
    "\n",
    "\tt = np.linspace(0, t_max)\n",
    "\tsir = odeint(diff_sir, sir0, t, (beta, gamma))\n",
    "\t\n",
    "\n",
    "\treturn sir, t \n",
    "\n",
    "def solve_sis(sis0, t_max, beta, gamma):\n",
    "\tt = np.linspace(0,t_max)\n",
    "\tsis = odeint(diff_sis,sis0, t, (beta, gamma))\n",
    "\treturn sis, t\n",
    "\n",
    "def plot_sir(t, data):\n",
    "\n",
    "\tfig = plt.figure()\n",
    "\tax1 = fig.add_subplot(311)\n",
    "\tax1.plot(t, data[:, 0], label='S(t)')\n",
    "\tax2 = fig.add_subplot(312)\n",
    "\tax2.plot(t, data[:, 1], label='I(t)')\n",
    "\tax3 = fig.add_subplot(313)\n",
    "\tax3.plot(t, data[:, 2], label='R(t)')\n",
    "\tplt.tight_layout()\n",
    "\n",
    "def main():\n",
    "\n",
    "\t#Set values for model parameters here.\n",
    "\tbeta = 0.4\n",
    "\tgamma = 0.2 \n",
    "\t#Let's solve for 100 time steps\n",
    "\tt_max = 100 \n",
    "\t#Create a tuple to represent the initial conditions\n",
    "\tsir0 = (S, I)\n",
    "\t#Solve the model\n",
    "\tsir, t = solve_sis(sir0, t_max, beta, gamma)\n",
    "\t#Plot the results\n",
    "\tplot_sir(t, sir)\n",
    "\n",
    "main()"
   ]
  },
  {
   "cell_type": "markdown",
   "id": "b91dea4f-5036-424c-b0a4-78784c943d22",
   "metadata": {},
   "source": [
    "<h3> Lotka-Volterra model</h3>\n",
    "\n",
    "The Lotka-Volterra equations can be used to describe the population of a predator-prey system. If we use x to represent the population density of the prey animal, and y to represent the population density of the predator, then the equations describing the model are:\n",
    "\n",
    "$$dx/dt = \\alpha x - \\beta xy$$\n",
    "$$dy/dt = \\delta xy - \\gamma y$$\n",
    "\n",
    "where $\\alpha$ describes the birth rate of the prety, $\\beta$ the effect of the predator on the preys growth rate, $\\delta$ the predator's death rate, and $\\gamma$ the effect of the prey on the predators growth rate. \n",
    "\n",
    "<h3> Exercise 4</h3>\n",
    "\n",
    "Write a program to solve the Lotka-Volterra system. When run from the terminal, your code should use sensible default values to solve the equation, producing a plot to show the output."
   ]
  },
  {
   "cell_type": "code",
   "execution_count": null,
   "id": "cbfd0356-8629-43ce-8619-fe239175d09b",
   "metadata": {},
   "outputs": [],
   "source": []
  }
 ],
 "metadata": {
  "kernelspec": {
   "display_name": "Python 3",
   "language": "python",
   "name": "python3"
  },
  "language_info": {
   "codemirror_mode": {
    "name": "ipython",
    "version": 3
   },
   "file_extension": ".py",
   "mimetype": "text/x-python",
   "name": "python",
   "nbconvert_exporter": "python",
   "pygments_lexer": "ipython3",
   "version": "3.13.0"
  }
 },
 "nbformat": 4,
 "nbformat_minor": 5
}
