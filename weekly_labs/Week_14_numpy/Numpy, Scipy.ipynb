{
 "cells": [
  {
   "cell_type": "markdown",
   "id": "65c39f94-4813-4b9a-aa62-cb902787737c",
   "metadata": {},
   "source": [
    "\n",
    "\n",
    "## Getting started\n",
    "\n",
    "Either:\n",
    "\n",
    "- Click [this link](https://colab.research.google.com/github/engmaths/SEMT10002_2024/blob/main/weekly_labs/Week_14_numpy/Numpy,%20Scipy.ipynb) to open this notebook in Google colab.  You'll need to sign in with a Google account before you can run it.  When you do, hit `Ctrl+F9` to check it all runs.\n",
    "\n",
    "or\n",
    "\n",
    "- Download it to your local computer using `git clone https://github.com/engmaths/SEMT10002_2024` or just use `git pull` to refresh if you've done this already.\n",
    "- Navigate to the subfolder `weekly_labs/Week_14_numpy` and open the notebook `Numpy, Scipy.ipynb`.  For example, in Visual Studio Code, use `Ctrl+K Ctrl+O` to open a folder and select the folder just mentioned.  Then you can open the notebook file by clicking on it in the left hand explorer sidebar.\n",
    "\n",
    "<h1> Introduction to Numpy and Scipy</h1>\n",
    "\n",
    "*NumPy* (**Num**erical **Py**thon) is a Python library extensively used for Scientific Computing. Although not part of the core Python library, NumPy is a fundamental part of the modern *Scientific Computing* technology stack and NumPy is used \"under the hood\" in many other libraries (e.g. in SciPy, SKLearn, or Pandas). Code that is written using NumPy is generally faster, more readable, and more likely to be correct!\n",
    "\n",
    "Today's lab will give you a brief introduction to the key features of NumPy. We won't cover everything, so it's a good idea to be aware of the official documentation <a href=https://numpy.org/doc/1.19/>here</a>\n",
    "\n",
    "The key things introduced by NumPy are:\n",
    "\n",
    "1. A multidimensional *array* data type. This is a bit like a list, with the restriction that all data in the array must be of the same *type*. This means we can't mix, for example, ints and strings or ints and floats within an array. For paying this price, we get much more efficient (both in terms of memory and CPU time) code.\n",
    "2. Many common mathematical or scientific utility functions- e.g. calculating the dot product of two vectors.\n",
    "\n",
    "<h2> Getting Started</h2>\n",
    "\n",
    "<h3> Installing and importing NumPy</h3>\n",
    "\n",
    "Depending on how you installed Python, you may already have NumPy installed. You can check this by trying to import it. By convention, numpy as imported as *np*. Try running the line below- if you don't get an error, you already have NumPy installed.\n"
   ]
  },
  {
   "cell_type": "code",
   "execution_count": 87,
   "id": "45759d4c-e531-40f8-9568-6f37f6e1f12c",
   "metadata": {},
   "outputs": [],
   "source": [
    "import numpy as np"
   ]
  },
  {
   "cell_type": "markdown",
   "id": "7614c9ac-43f0-4fff-b1fd-e2f80773f531",
   "metadata": {},
   "source": [
    "If you don't have it installed, you can install it with pip (Python installation package). Do this by typing\n",
    "\n",
    "```bash\n",
    "pip3 install numpy\n",
    "```"
   ]
  },
  {
   "cell_type": "markdown",
   "id": "ebbaf63b-073d-45ad-b6a4-8cf5dacba5c7",
   "metadata": {},
   "source": [
    "<h2> NumPy Arrays</h2>\n",
    "\n",
    "The key thing that NumPy provides for us is an *array* data type. An array is a bit like a list- it can contain multiple elements. Unlike lists, we can't mix data types within an array-we have to specify a single data type that is shared by all elements in the array. The other major difference between an array and a list is that arrays are *multidimensional*. Lists, on the other hand, can only be 1-dimensional. We can make something that looks 2D, 3D or higher by using nesting, but this quickly gets messy. Arrays on the other hand can natively be specified as 2, 3 or N dimensional. This makes them a natural choice for storing and processing vectors and matrices. By forcing all elements in the array to have the same data type, NumPy arrays allow code that runs quicker, makes better use of memory and is easier to read and write. \n",
    "\n",
    "<h3> Creating Arrays</h3>\n",
    "\n",
    "We have a number of options when it comes to defining an array:\n",
    "\n",
    "1. We can make an array from a list"
   ]
  },
  {
   "cell_type": "code",
   "execution_count": 88,
   "id": "a01eab12-8698-4799-bae5-510107ed2a96",
   "metadata": {},
   "outputs": [
    {
     "name": "stdout",
     "output_type": "stream",
     "text": [
      "[1 2 3]\n"
     ]
    }
   ],
   "source": [
    "my_list = [1, 2, 3]\n",
    "my_array = np.array(my_list)\n",
    "print(my_array)"
   ]
  },
  {
   "cell_type": "markdown",
   "id": "8b546a22-f027-4ed6-a61f-825e14c9c238",
   "metadata": {},
   "source": [
    "we can make 2 or 3D arrays from lists by nesting them."
   ]
  },
  {
   "cell_type": "code",
   "execution_count": 89,
   "id": "cc36a58d-565a-447d-bef3-3361338eb8a9",
   "metadata": {},
   "outputs": [
    {
     "name": "stdout",
     "output_type": "stream",
     "text": [
      "[[1 2 3]\n",
      " [4 5 6]]\n"
     ]
    }
   ],
   "source": [
    "my_nested_list = [[1, 2, 3], [4, 5, 6]]\n",
    "my_2D_array = np.array(my_nested_list)\n",
    "print(my_2D_array)"
   ]
  },
  {
   "cell_type": "markdown",
   "id": "d0b181ab-5199-4709-96a9-314c15c65ed6",
   "metadata": {},
   "source": [
    "We can turn an array back into a list using the built-in tolist() method."
   ]
  },
  {
   "cell_type": "code",
   "execution_count": 90,
   "id": "a37659ba-9d94-4d1a-b623-9e8cb12e0c2b",
   "metadata": {},
   "outputs": [
    {
     "name": "stdout",
     "output_type": "stream",
     "text": [
      "[[1, 2, 3], [4, 5, 6]]\n"
     ]
    }
   ],
   "source": [
    "matrix_as_list = my_2D_array.tolist()\n",
    "print(matrix_as_list)"
   ]
  },
  {
   "cell_type": "markdown",
   "id": "b88c675c-87c1-4a47-a3bb-1ca1cd2f4925",
   "metadata": {},
   "source": [
    "2. We can make an array with np.zeros or np.ones. np.ones will make an array of all ones, while np.zeros will make an array of all zeros. Here, we must specify the dimensions of the array (and optionally the data type)."
   ]
  },
  {
   "cell_type": "code",
   "execution_count": 91,
   "id": "16558d01-e383-4fa7-8694-abb954a7d64b",
   "metadata": {},
   "outputs": [
    {
     "name": "stdout",
     "output_type": "stream",
     "text": [
      "Matrix 1\n",
      "[[1. 1. 1.]\n",
      " [1. 1. 1.]]\n",
      "float64\n",
      "\n",
      "\n",
      "Matrix 2\n",
      "[[[1 1 1 1 1]\n",
      "  [1 1 1 1 1]\n",
      "  [1 1 1 1 1]\n",
      "  [1 1 1 1 1]]\n",
      "\n",
      " [[1 1 1 1 1]\n",
      "  [1 1 1 1 1]\n",
      "  [1 1 1 1 1]\n",
      "  [1 1 1 1 1]]\n",
      "\n",
      " [[1 1 1 1 1]\n",
      "  [1 1 1 1 1]\n",
      "  [1 1 1 1 1]\n",
      "  [1 1 1 1 1]]]\n",
      "uint8\n"
     ]
    }
   ],
   "source": [
    "matrix1 = np.ones((2, 3))\n",
    "print(\"Matrix 1\")\n",
    "print(matrix1)\n",
    "print(matrix1.dtype)\n",
    "\n",
    "print(\"\\n\")\n",
    "\n",
    "matrix2 = np.ones((3, 4, 5), dtype=np.uint8)\n",
    "print(\"Matrix 2\")\n",
    "print(matrix2)\n",
    "print(matrix2.dtype)"
   ]
  },
  {
   "cell_type": "markdown",
   "id": "4225174b-3785-49e5-af8d-0a5e667cc593",
   "metadata": {},
   "source": [
    "Here, *matrix1* is a 2x3 matrix of floats (NumPy will infer a data type if you don't specify one). *matrix2* is a 3x4x5 array of *unsigned* 8 bit integers (i.e. representing number from 0 to (2^8)-1=255."
   ]
  },
  {
   "cell_type": "markdown",
   "id": "75459fc7-7c35-4723-85fc-7f04855a11c1",
   "metadata": {},
   "source": [
    "<h3> Array Properties</h3>\n",
    "\n",
    "We've already seen one property of an array- *dtype* is used to represent the type of data it stores. \n",
    "Arrays have many other attributes that can you access (using the standard dot notation)- you can find a full list <a href=https://numpy.org/doc/1.21/reference/arrays.ndarray.html#id1>here</a>. Of these, the ones I find myself using the most are:\n",
    "\n",
    "- shape - this provides a tuple of the array dimensions.\n",
    "- size - this provides the number of elements in the array.\n",
    "\n",
    "In general, we can change the *shape* of an array, as long as the *size* does not change. We can also transpose an array (similar to matrix transposition), using the .transpose() method."
   ]
  },
  {
   "cell_type": "code",
   "execution_count": 92,
   "id": "0841c644-acb8-450a-929f-19fafe0db065",
   "metadata": {},
   "outputs": [
    {
     "name": "stdout",
     "output_type": "stream",
     "text": [
      "Shape: (2, 3)\n",
      "Size: 6\n",
      "[[1 2 3 4 5 6]]\n",
      "Shape: (1, 6)\n",
      "Size: 6\n",
      "[[1]\n",
      " [2]\n",
      " [3]\n",
      " [4]\n",
      " [5]\n",
      " [6]]\n"
     ]
    }
   ],
   "source": [
    "array1 = np.array([[1, 2, 3], [4, 5, 6]])\n",
    "print(\"Shape:\", array1.shape)\n",
    "print(\"Size:\", array1.size)\n",
    "\n",
    "array2 = array1.reshape(1, 6)\n",
    "print(array2)\n",
    "print(\"Shape:\", array2.shape)\n",
    "print(\"Size:\", array2.size)\n",
    "\n",
    "print(array2.transpose())"
   ]
  },
  {
   "cell_type": "markdown",
   "id": "dfb6e7ee-3450-4515-b3fb-712760b2c384",
   "metadata": {},
   "source": [
    "<h3> Accessing Array Elements </h3>\n",
    "\n",
    "Accessing an element of a NumPy array is in many ways similar to a list. For a 1D array, we are square brackets ([]) to specify the index we want to access. e.g. "
   ]
  },
  {
   "cell_type": "code",
   "execution_count": 93,
   "id": "8522329e-fa9c-4371-8938-687a1b4ab28d",
   "metadata": {},
   "outputs": [
    {
     "name": "stdout",
     "output_type": "stream",
     "text": [
      "1\n"
     ]
    }
   ],
   "source": [
    "vector = np.array([0, 1, 2])\n",
    "print(vector[1])"
   ]
  },
  {
   "cell_type": "markdown",
   "id": "b144342a-85ee-4717-b1ee-a30455ccb9d5",
   "metadata": {},
   "source": [
    "Just like a list, we can use reverse and slice notation too. "
   ]
  },
  {
   "cell_type": "code",
   "execution_count": 94,
   "id": "fe613152-ae4a-4082-9a59-8910d339e258",
   "metadata": {},
   "outputs": [
    {
     "name": "stdout",
     "output_type": "stream",
     "text": [
      "Indexing with -1 will return the last element\n",
      "2\n",
      "\n",
      "Indexing with two numbers seperated by a colon will return a slice\n",
      "[1 2]\n"
     ]
    }
   ],
   "source": [
    "print(\"Indexing with -1 will return the last element\")\n",
    "print(vector[-1])\n",
    "print(\"\\nIndexing with two numbers seperated by a colon will return a slice\")\n",
    "print(vector[1:3])"
   ]
  },
  {
   "cell_type": "markdown",
   "id": "b749d6f0-1169-499a-8f99-ab902b5d00f6",
   "metadata": {},
   "source": [
    "\n",
    "<img src=\"https://github.com/engmaths/SEMT10002_2024/blob/main/img/array_axes.png?raw=true\" width=\"20%\">\n",
    "\n",
    "\n",
    "However, the syntax changes when we move from a 1D array to a 2D array. To access a single element of a 2D array, we need to specify two values-the index of the column and the index of the row. Both indices are specified within a single set of square brackets and separated by a comma (,). e.g. To get the top right element of a 2x2 matrix, we would access element [0, 0], while to access the bottom left element we would access element [1, 1]. e.g."
   ]
  },
  {
   "cell_type": "code",
   "execution_count": 95,
   "id": "84fe8cb0-3611-4522-8144-bdab5cbd33c5",
   "metadata": {},
   "outputs": [
    {
     "name": "stdout",
     "output_type": "stream",
     "text": [
      "Full matrix\n",
      "[[1 2]\n",
      " [3 4]]\n",
      "Accessing top right\n",
      "1\n",
      "Accessing bottom left\n",
      "4\n"
     ]
    }
   ],
   "source": [
    "matrix = np.array([[1, 2], [3, 4]])\n",
    "print(\"Full matrix\")\n",
    "print(matrix)\n",
    "print(\"Accessing top right\")\n",
    "print(matrix[0, 0])\n",
    "print(\"Accessing bottom left\")\n",
    "print(matrix[1, 1])\n"
   ]
  },
  {
   "cell_type": "markdown",
   "id": "c450b2be-5d46-420b-afd9-276323d9728c",
   "metadata": {},
   "source": [
    "If we want to access an entire row or column of an array, we can use a ':' to specify that we want all of a particular axis."
   ]
  },
  {
   "cell_type": "code",
   "execution_count": 96,
   "id": "a752203b-139f-4cc3-937a-dcfdf9645cb5",
   "metadata": {},
   "outputs": [
    {
     "name": "stdout",
     "output_type": "stream",
     "text": [
      "Top Row\n",
      "[1 2]\n",
      "Bottom\n",
      "[3 4]\n",
      "Left column\n",
      "[1 3]\n",
      "Right column\n",
      "[2 4]\n"
     ]
    }
   ],
   "source": [
    "print(\"Top Row\")\n",
    "print(matrix[0, :])\n",
    "print(\"Bottom\")\n",
    "print(matrix[1, :])\n",
    "print(\"Left column\")\n",
    "print(matrix[:, 0])\n",
    "print(\"Right column\")\n",
    "print(matrix[:, 1])"
   ]
  },
  {
   "cell_type": "markdown",
   "id": "4d5ebd7c-ad89-4cdf-9021-1199af278a8d",
   "metadata": {},
   "source": [
    "<h3> Exercise 1 - Making and Reshaping Arrays</h3>\n",
    "\n",
    "1. Create an array to represent the following 3x3 matrix\n",
    "\n",
    "$ \\begin{bmatrix}\n",
    "1 & 2 & 3 \\\\\n",
    "2 & 4 & 6 \\\\\n",
    "4 & 8 & 12 \n",
    "\\end{bmatrix}  $\n",
    "\n",
    "2. Turn the 3x3 matrix into a 1x9 matrix.\n",
    "3. Create a new 1x6 matrix by removing the first two and last elements of the 1x9 matrix.\n",
    "4. Turn this 1x6 matrix into a 3x2 matrix.\n",
    "5. The determinant of a 2x2 matrix\n",
    "\n",
    "$ \\begin{bmatrix}\n",
    "a & b  \\\\\n",
    "c & d  \\\\ \n",
    "\\end{bmatrix}  $\n",
    "\n",
    "is given by the formula $determinant = ad-bc$. Write some code to find the determinant of the matrix:\n",
    "\n",
    "$ \\begin{bmatrix}\n",
    "7 & 9  \\\\\n",
    "4 & 6  \\\\ \n",
    "\\end{bmatrix}  $"
   ]
  },
  {
   "cell_type": "code",
   "execution_count": null,
   "id": "c321d212-b738-4e94-87db-f1d179be170e",
   "metadata": {},
   "outputs": [],
   "source": [
    "#Your code goes here."
   ]
  },
  {
   "cell_type": "markdown",
   "id": "9f43da7a-4d71-46f8-aa29-65c79dc5d6ee",
   "metadata": {},
   "source": [
    "<h2> Array Operations and Vectorisation</h2>\n",
    "\n",
    "Much of the power of NumPy comes from its ability to efficiently apply operations to every element in an array. For example, if we wanted to double every element in a list, we might write the following code:\n"
   ]
  },
  {
   "cell_type": "code",
   "execution_count": 97,
   "id": "036f388d-64c9-4d58-8aba-0afb1510cacf",
   "metadata": {},
   "outputs": [
    {
     "name": "stdout",
     "output_type": "stream",
     "text": [
      "[2, 4, 6, 8, 10, 12]\n"
     ]
    }
   ],
   "source": [
    "initial_list = [1, 2, 3, 4, 5, 6]\n",
    "doubled_list = []\n",
    "\n",
    "for element in initial_list:\n",
    "    doubled_list.append(2 * element)\n",
    "\n",
    "print(doubled_list)"
   ]
  },
  {
   "cell_type": "markdown",
   "id": "61193f2c-f192-4fae-9fe9-997821b3fd70",
   "metadata": {},
   "source": [
    "We can achieve the same thing using more compact syntax with a list comprehension"
   ]
  },
  {
   "cell_type": "code",
   "execution_count": 98,
   "id": "f3634b10-3c57-40bb-b3a7-603af86710cc",
   "metadata": {},
   "outputs": [
    {
     "name": "stdout",
     "output_type": "stream",
     "text": [
      "[2, 4, 6, 8, 10, 12]\n"
     ]
    }
   ],
   "source": [
    "initial_list = [1, 2, 3, 4, 5, 6]\n",
    "doubled_list = [element*2 for element in initial_list]\n",
    "print(doubled_list)"
   ]
  },
  {
   "cell_type": "markdown",
   "id": "67637e56-69cb-4796-9a23-b511f3e62a4d",
   "metadata": {},
   "source": [
    "Using a NumPy array, we can avoid the loop altogether and just write:"
   ]
  },
  {
   "cell_type": "code",
   "execution_count": 99,
   "id": "17b792ee-5062-44f6-9865-df5cdb5f4932",
   "metadata": {},
   "outputs": [
    {
     "name": "stdout",
     "output_type": "stream",
     "text": [
      "[ 2  4  6  8 10 12]\n"
     ]
    }
   ],
   "source": [
    "initial_array = np.array([1, 2, 3, 4, 5, 6])\n",
    "doubled_array = 2 * initial_array\n",
    "print(doubled_array)"
   ]
  },
  {
   "cell_type": "markdown",
   "id": "e04fbda6-064d-4eb8-ba40-efa979697212",
   "metadata": {},
   "source": [
    "It's important to understand here that NumPy isn't just simplifying the syntax for us- by using memory and CPU caches more efficiently, the final piece of code will also run faster too. Now the speed-up for this exercise here may be marginal, but as code gets more complex, the difference will be meaningful."
   ]
  },
  {
   "cell_type": "markdown",
   "id": "28894a51-a72f-4ea2-94a1-a5ba545e949c",
   "metadata": {},
   "source": [
    "<h3> Mathematical Operations</h3>\n",
    "\n",
    "Numpy will vectorise many mathematical operators for us- additional, multiplication, and so on will automatically be applied element wise."
   ]
  },
  {
   "cell_type": "code",
   "execution_count": 100,
   "id": "80cd7767-6189-4994-9c9b-4c8f57237701",
   "metadata": {},
   "outputs": [
    {
     "name": "stdout",
     "output_type": "stream",
     "text": [
      "Addition\n",
      "[5 7 9]\n",
      "Subtraction\n",
      "[-3 -3 -3]\n",
      "Multiplication\n",
      "[ 4 10 18]\n",
      "Squaring\n",
      "[1 4 9]\n",
      "[16 25 36]\n"
     ]
    }
   ],
   "source": [
    "vector1 = np.array([1, 2, 3])\n",
    "vector2 = np.array([4, 5, 6])\n",
    "\n",
    "print(\"Addition\")\n",
    "print(vector1 + vector2)\n",
    "print(\"Subtraction\")\n",
    "print(vector1 - vector2)\n",
    "print(\"Multiplication\")\n",
    "print(vector1 * vector2)\n",
    "print(\"Squaring\")\n",
    "print(vector1**2)\n",
    "print(vector2**2)"
   ]
  },
  {
   "cell_type": "markdown",
   "id": "12b8ad74-6540-4c03-b5ae-fcf6682aff93",
   "metadata": {},
   "source": [
    "Note that these operations will only work if the corresponding mathematical operations are well-defined- if we try to add arrays of different lengths, for example, we would get an error."
   ]
  },
  {
   "cell_type": "code",
   "execution_count": 101,
   "id": "c264590f-3774-49d9-a4dd-8dab468b3700",
   "metadata": {},
   "outputs": [
    {
     "ename": "ValueError",
     "evalue": "operands could not be broadcast together with shapes (2,) (3,) ",
     "output_type": "error",
     "traceback": [
      "\u001b[0;31m---------------------------------------------------------------------------\u001b[0m",
      "\u001b[0;31mValueError\u001b[0m                                Traceback (most recent call last)",
      "Input \u001b[0;32mIn [101]\u001b[0m, in \u001b[0;36m<cell line: 3>\u001b[0;34m()\u001b[0m\n\u001b[1;32m      1\u001b[0m vector1 \u001b[38;5;241m=\u001b[39m np\u001b[38;5;241m.\u001b[39marray([\u001b[38;5;241m1\u001b[39m, \u001b[38;5;241m2\u001b[39m])\n\u001b[1;32m      2\u001b[0m vector2 \u001b[38;5;241m=\u001b[39m np\u001b[38;5;241m.\u001b[39marray([\u001b[38;5;241m4\u001b[39m, \u001b[38;5;241m5\u001b[39m, \u001b[38;5;241m6\u001b[39m])\n\u001b[0;32m----> 3\u001b[0m \u001b[38;5;28mprint\u001b[39m(\u001b[43mvector1\u001b[49m\u001b[38;5;241;43m+\u001b[39;49m\u001b[43mvector2\u001b[49m)\n",
      "\u001b[0;31mValueError\u001b[0m: operands could not be broadcast together with shapes (2,) (3,) "
     ]
    }
   ],
   "source": [
    "vector1 = np.array([1, 2])\n",
    "vector2 = np.array([4, 5, 6])\n",
    "print(vector1+vector2)"
   ]
  },
  {
   "cell_type": "markdown",
   "id": "d07d3aef-5376-4f12-865d-fbbeb2bff398",
   "metadata": {},
   "source": [
    "<h3> Logical Operations</h3>\n",
    "\n",
    "Just like mathematical operations, logical operations (such as <, >, ==) are also vectorised. If we write the expression ```array < value```, then we'll get a new array consisting only of True and False values. e.g."
   ]
  },
  {
   "cell_type": "code",
   "execution_count": 102,
   "id": "972c4e96-8ccd-416a-9b1d-d42a18bf6d66",
   "metadata": {},
   "outputs": [
    {
     "name": "stdout",
     "output_type": "stream",
     "text": [
      "[ True  True  True  True False False False False False False]\n"
     ]
    }
   ],
   "source": [
    "vector1 = np.array([1, 2, 3, 4, 5, 6, 7, 8, 9, 10])\n",
    "print(vector1 < 5)"
   ]
  },
  {
   "cell_type": "markdown",
   "id": "39c7dd40-8e33-42f0-9a04-6ee13c50f940",
   "metadata": {},
   "source": [
    "We can then use this boolean array to index into our original array-this will give us a new array containing only the values that satisfy our condition."
   ]
  },
  {
   "cell_type": "code",
   "execution_count": 103,
   "id": "9fa7f532-cc00-4b3a-b1b2-a6aaa97019fb",
   "metadata": {},
   "outputs": [
    {
     "name": "stdout",
     "output_type": "stream",
     "text": [
      "[1 2 3 4]\n"
     ]
    }
   ],
   "source": [
    "vector1 = np.array([1, 2, 3, 4, 5, 6, 7, 8, 9, 10])\n",
    "boolean_array = vector1 < 5\n",
    "print(vector1[boolean_array])"
   ]
  },
  {
   "cell_type": "markdown",
   "id": "25afca8a-8eb0-444c-8a25-19e3221f70fb",
   "metadata": {},
   "source": [
    "We can write this more compactly as:"
   ]
  },
  {
   "cell_type": "code",
   "execution_count": 104,
   "id": "2a50d07a-6f90-4aee-b90c-5378156fdd0d",
   "metadata": {},
   "outputs": [
    {
     "name": "stdout",
     "output_type": "stream",
     "text": [
      "[1 2 3 4]\n"
     ]
    }
   ],
   "source": [
    "print(vector1[vector1 < 5])"
   ]
  },
  {
   "cell_type": "markdown",
   "id": "ac1b4b5c-78de-4d81-b00e-efa5004bacef",
   "metadata": {},
   "source": [
    "<h3> Built-in functions</h3>\n",
    "\n",
    "Finally, NumPy has many built-in functions that we can use. All NumPy functions are vectorised, so can be applied to whole arrays without using a loop. We won't go through all of these, but you can find a list <a href=https://numpy.org/doc/stable/reference/routines.math.html>here</a>"
   ]
  },
  {
   "cell_type": "code",
   "execution_count": 105,
   "id": "e5065169-a821-460f-b75c-76a838194d77",
   "metadata": {},
   "outputs": [
    {
     "name": "stdout",
     "output_type": "stream",
     "text": [
      "[ 0.84147098  0.90929743  0.14112001 -0.7568025  -0.95892427 -0.2794155\n",
      "  0.6569866   0.98935825  0.41211849 -0.54402111]\n"
     ]
    }
   ],
   "source": [
    "print(np.sin(vector1))"
   ]
  },
  {
   "cell_type": "markdown",
   "id": "b95289f2-b423-4d7e-9b64-7eba32d84ef0",
   "metadata": {},
   "source": [
    "<h3> Exercise 2</h3>\n",
    "\n",
    "1. Calculating mean squared error.\n",
    "\n",
    "In machine learning, it's common to work with models that make predict the value of things- for example, we could train a model to predict the number of medals that team GB is expected to win at the Olympics, or the number of admissions to hospital on a certain day of the year. One way of evaluating such a model is to calculate the mean squared error-this is given by the formula:\n",
    "\n",
    "$ MSE = \\frac{1}{n} \\sum_{i=1}^n(Y_{predicted, i} - Y_{actual, i})$\n",
    "\n",
    "where $n$ is the number of predictions, $Y_{predicted, i} is the ith prediction and Y_{actual, i} is the ith actual value. Given the following data set, write some code to calculate the mean squared error. \n"
   ]
  },
  {
   "cell_type": "code",
   "execution_count": 86,
   "id": "a458dbab-8cbc-419c-acfe-3f47260686cf",
   "metadata": {},
   "outputs": [],
   "source": [
    "predictions = np.array([4, 5, 6, 1, 2, 6, 8, 9, 10])\n",
    "actual = np.array([5, 5, 6, 2, 3, 5, 4, 7, 9])\n",
    "\n",
    "#Your code goes here."
   ]
  },
  {
   "cell_type": "markdown",
   "id": "bc6b2f27-a647-46cf-98f6-203121f2faa8",
   "metadata": {},
   "source": [
    "2. The function np.roots (look up the details in the NumPy documentation) can be used to find the roots of polynomial equations. Use np.roots to find the roots of the following Polynomials:\n",
    "\n",
    "- $ x^2 - 2x + 1 $\n",
    "- A 1000 degree polynomial with random integers co-efficients\n"
   ]
  },
  {
   "cell_type": "code",
   "execution_count": null,
   "id": "c648cd59-c555-422d-8aaa-4be38a941de9",
   "metadata": {},
   "outputs": [],
   "source": [
    "# Your code goes here."
   ]
  },
  {
   "cell_type": "markdown",
   "id": "ffdd2f41-7497-4cc5-a177-3b7ac9ec1816",
   "metadata": {},
   "source": [
    "<h2> Solvings ODEs with Scipy</h2>\n",
    "\n",
    "Ordinary differential equations (ODEs) can be used to model a huge range of physical systems-from predicting the trajectory of a rocket, to understanding the factors that affect population growth. The general approach used is to first write down a set of equations,  describing how quantities in the system change. For example, we might represent the population on the planet earth with a variable N. If over some duration of time (say 1 month), we expect some fraction of people to die (say $\\alpha$), then we can write the equation:\n",
    "\n",
    "$$dN/dt = -\\alpha N$$\n",
    "\n",
    "We can then predict how the population will change over time (for a particular death rate) by solving the equation. If we wanted to improve the model, by say, considering births as well, then we can introduce a second term to represent this-for example, we could assume that some proportion of the population ($\\beta$) gives birth. This would lead to a new equation:\n",
    "\n",
    "$$dN/dt = -\\alpha N + \\beta N$$\n",
    "\n",
    "In your other courses, you have seen a number of techniques for solving ODEs. Here, we will look at how we can use Python to numerically integrate an equation like this. We won't go too much into the details of how this happens-you'll see a lot more on this in later courses. Our focus is on being able to write the code we need to solve ODE models.\n",
    "\n",
    "<h3> Numerical integration with Scipy </h3>\n",
    "\n",
    "To perform numerical integration with Python, we'll need to use a library which contains the necessary functionality- in this case, we'll use Scipy's odeint functionality. If you don't have this installed, you will need to install it (for example, by running in a terminal ```pip3 install scipy```).\n",
    "\n",
    "To integrate an ODE with Scipy, we'll use the <a href=https://docs.scipy.org/doc/scipy-1.15.0/reference/generated/scipy.integrate.odeint.html>odeint</a> function.\n",
    "\n",
    "Let's take a quick look at the documentation for this function:\n",
    "\n",
    "<img src=\"https://github.com/engmaths/SEMT10002_2024/blob/main/img/odeint1.png?raw=true\" width=\"60%\">\n",
    "\n",
    "\n",
    "Here, we can see that odeint is a function with 3 required arguments (func, y0, t) and 19(!!) optional arguments. We can also see that ths function will *Integrate a system of ordinary differential equations* by solving the initial value problem for  systems of first order ode-s:\n",
    "\n",
    "$dy/dt = func(y, t, args) $ \n",
    "\n",
    "where y can be a vector. Fortunately, all of the optional arguments have default values, so we can assume (for now) that these are reasonable and just focus on understanding the three things that we need to provide. Scrolling down the documentation page, we get further information on what we need to provide for the function to work:\n",
    "\n",
    "<img src=\"https://github.com/engmaths/SEMT10002_2024/blob/main/img/odeint2.png?raw=true\" width=\"60%\">\n",
    "\n",
    "This tells us that the first argument (*func*) needs to be a callable (i.e. a function) that calculates the derivative of y at time t. The second argument y0 is an array that defines the initial condition and  the third argument t0 is an array that defines the time points for which to solve y for. It also tells us that the odeint function will return an array y (with shape len(t), len(y0). This array will contain the value of y for each desired time in t, with the initial value y0 in the first row.\n",
    "\n",
    "The code below shows how we can use odeint to integrate our model of population growth."
   ]
  },
  {
   "cell_type": "code",
   "execution_count": 106,
   "id": "1bfebbf2-cb12-46ef-934f-a5a0bdce853a",
   "metadata": {},
   "outputs": [
    {
     "name": "stdout",
     "output_type": "stream",
     "text": [
      "T is :\n",
      "\n",
      "[  0.           2.04081633   4.08163265   6.12244898   8.16326531\n",
      "  10.20408163  12.24489796  14.28571429  16.32653061  18.36734694\n",
      "  20.40816327  22.44897959  24.48979592  26.53061224  28.57142857\n",
      "  30.6122449   32.65306122  34.69387755  36.73469388  38.7755102\n",
      "  40.81632653  42.85714286  44.89795918  46.93877551  48.97959184\n",
      "  51.02040816  53.06122449  55.10204082  57.14285714  59.18367347\n",
      "  61.2244898   63.26530612  65.30612245  67.34693878  69.3877551\n",
      "  71.42857143  73.46938776  75.51020408  77.55102041  79.59183673\n",
      "  81.63265306  83.67346939  85.71428571  87.75510204  89.79591837\n",
      "  91.83673469  93.87755102  95.91836735  97.95918367 100.        ]\n"
     ]
    },
    {
     "data": {
      "image/png": "[encoded data removed]",
      "text/plain": [
       "<Figure size 432x288 with 1 Axes>"
      ]
     },
     "metadata": {
      "needs_background": "light"
     },
     "output_type": "display_data"
    }
   ],
   "source": [
    "import numpy as np \n",
    "from scipy.integrate import odeint \n",
    "import matplotlib.pyplot as plt \n",
    "\n",
    "#This function defines the right hand side of the equation we want to integrate\n",
    "def gradient(N, t, alpha, beta):\n",
    "\treturn -alpha*N + beta*N \n",
    "\n",
    "#Lets start with an initial population of 100 people\n",
    "N0 = 100\n",
    "#We also need some values for our parameters\n",
    "alpha = 0.1\n",
    "beta = 0.05 \n",
    "#We need to tell scipy which timesteps to use for the integration- linspace will give us evenly spaced points\n",
    "t = np.linspace(0, 100)\n",
    "print(\"T is :\\n\")\n",
    "print(t)\n",
    "N = odeint(gradient, N0, t, (alpha, beta))\n",
    "fig = plt.figure()\n",
    "ax = fig.add_subplot(111)\n",
    "ax.plot(t, N)\n",
    "ax.set_ylabel(\"Population size (N people)\")\n",
    "ax.set_xlabel(\"Time (months)\")\n",
    "\n",
    "plt.show()"
   ]
  },
  {
   "cell_type": "markdown",
   "id": "50b17b8b-e59c-4896-8403-1f37d74db937",
   "metadata": {},
   "source": [
    "This code begins by importing some libraries that we will need. We then define a function for calculating the gradient of our system. This function must always have two arguments- the first represents the current state of the system (and can be a number, or a numpy array), the second represents the current timestep. The gradient may also have some optional parameters- here we use this to pass the values of $\\alpha$ and $\\beta$. \n",
    "\n",
    "We then create some variables to represent our initial population (N0) and paramaters ($\\alpha$ and $\\beta$). We create a sequence of time points for the integration with the line ```t = np.linspace(0, 100)```. Then we perform the integration with odeint- here we must provide the gradient function as the first argument, the initial condition as the second argument and then any paramaters as a tuple. Finally, we plot the result. \n",
    "\n",
    "Here, as the death rate ($\\alpha$ = 0.1) is bigger than the death rate ($\\beta = 0.05$), the population dies out.\n",
    "\n",
    "**Exercise**: Modify the code above to repeat the integration with 3 different values of $\\alpha$ and 3 different values of $\\beta$ (i.e 9 times in total). Plot the results on a single figure, with 9 axes. Label each axes with the values of $\\alpha$ and $\\beta$. Hint: If you can't remember how to do this, review the matplotlib worksheet.\n"
   ]
  },
  {
   "cell_type": "markdown",
   "id": "77bacace-e96f-43fb-b8c7-caaf12df3eb0",
   "metadata": {},
   "source": [
    "<h3> Understanding epidemics with the SIR model </h3>\n",
    "\n",
    "A simple model for understanding the spread (or not) of a disease through the population is the (S)usceptible, (I)nfected, (R)emoved model. Here, the population is divided into three categories- those who have not yet had the disease are susceptible. Those who have it are infected, and those who have recovered (or died) are removed. The equations describing the model are as follows, with N the size of the population:\n",
    "\n",
    "$$dS/dT = (-\\beta * S * I) / N$$\n",
    "$$dI/dT = (\\beta * S * I) / N - \\gamma * I$$\n",
    "$$dR/dT = \\gamma * I$$\n",
    "\n",
    "\n",
    "Essentially, this assumes that some fraction of the susceptible people will interact with the infected, catching the disease proportional to the parameter $\\beta$. These people become infected, and so are subtracted from the count of susceptible people. As these are now infected, we need to also add the same amount of the number of infected. At the same time, some proportion of the infected people ($\\gamma$) recover. We need to subtract this number from I, and add it to R. \n",
    "\n",
    "We can solve this system in Python with the following code:"
   ]
  },
  {
   "cell_type": "code",
   "execution_count": 107,
   "id": "edbc6ebe-b358-4073-b5e8-9fa625ce0708",
   "metadata": {},
   "outputs": [
    {
     "data": {
      "image/png": "[encoded data removed]",
      "text/plain": [
       "<Figure size 432x288 with 3 Axes>"
      ]
     },
     "metadata": {
      "needs_background": "light"
     },
     "output_type": "display_data"
    }
   ],
   "source": [
    "import matplotlib.pyplot as plt \n",
    "from scipy.integrate import odeint \n",
    "import numpy as np \n",
    "\n",
    "#Let's use a population of 1000 people\n",
    "N = 1000 \n",
    "#S represents the number of susceptible people; we'll start our model with one infected, with means S=N-1\n",
    "S = N-1 \n",
    "#I represents the number of infected people; we'll leave start this at one.\n",
    "I = 1 \n",
    "#R represents the number of people removed (either due to recovery or death). We start this at zero.\n",
    "R = 0 \n",
    "\n",
    "def diff_sir(sir, t, beta, gamma):\n",
    "\n",
    "\t'''\n",
    "\tCalculates the gradient for an SIR model of disease spread\n",
    "\tInputs:\n",
    "\t\tsir: state of the system, with sir[0] = number susceptible\n",
    "\t\t\t\t\t\t\t\t\t   sir[1] = number infected\n",
    "\t\t\t\t\t\t\t\t\t   sir[2] = number recovered\n",
    "\t\tt: current time- not used here, but odeint expects to pass this argument so we must include it\n",
    "\t\tbeta: the rate at which the virus spreads\n",
    "\t\tgamma: the rate at which people are removed due to the virus\n",
    "\tOutputs:\n",
    "\t\tthe gradient of the SIR model\n",
    "\t'''\n",
    "\n",
    "\tdsdt = (-beta*sir[0] * sir[1])/N \n",
    "\tdidt = (beta*sir[0]*sir[1])/N - (gamma * sir[1])\n",
    "\tdrdt = gamma * sir[1]\n",
    "\n",
    "\tgrad = [dsdt, didt, drdt]\n",
    "\n",
    "\treturn grad \n",
    "\n",
    "def solve_sir(sir0, t_max, beta, gamma):\n",
    "\t'''\n",
    "\tSolves an SIR model using odeint.\n",
    "\t'''\n",
    "\n",
    "\tt = np.linspace(0, t_max)\n",
    "\tsir = odeint(diff_sir, sir0, t, (beta, gamma))\n",
    "\n",
    "\treturn sir, t \n",
    "\n",
    "def plot_sir(t, data):\n",
    "\n",
    "\tfig = plt.figure()\n",
    "\tax1 = fig.add_subplot(311)\n",
    "\tax1.plot(t, data[:, 0], label='S(t)')\n",
    "\tax2 = fig.add_subplot(312)\n",
    "\tax2.plot(t, data[:, 1], label='I(t)')\n",
    "\tax3 = fig.add_subplot(313)\n",
    "\tax3.plot(t, data[:, 2], label='R(t)')\n",
    "\tplt.tight_layout()\n",
    "\n",
    "def main():\n",
    "\n",
    "\t#Set values for model parameters here.\n",
    "\tbeta = 0.4\n",
    "\tgamma = 0.2 \n",
    "\t#Let's solve for 100 time steps\n",
    "\tt_max = 100 \n",
    "\t#Create a tuple to represent the initial conditions\n",
    "\tsir0 = (S, I, R)\n",
    "\t#Solve the model\n",
    "\tsir, t = solve_sir(sir0, t_max, beta, gamma)\n",
    "\t#Plot the results\n",
    "\tplot_sir(t, sir)\n",
    "\n",
    "main()"
   ]
  },
  {
   "cell_type": "markdown",
   "id": "8c596584-3fda-4276-9250-280adf1c1a7a",
   "metadata": {},
   "source": [
    "**Task 3**:A variation on the SIR  model is the SIS model, in which those who recover from the disease can become re-infected again. The equations for describing this system are:\n",
    "\n",
    "$$dS/dT = (-\\beta * S * I) / N + \\gamma * I$$\n",
    "$$dI/dT = (\\beta * S * I) / N - \\gamma * I$$\n",
    "\n",
    "Extend the code above to also solve this system. You'll need to define a new function for calculating the gradient (i.e \"diff_SIS\") and another function to solving the ODE (i.e \"solve_SIS\"). Plot the results of both models on a single figure."
   ]
  },
  {
   "cell_type": "markdown",
   "id": "b91dea4f-5036-424c-b0a4-78784c943d22",
   "metadata": {},
   "source": [
    "<h3> Lotka-Volterra model</h3>\n",
    "\n",
    "The Lotka-Volterra equations can be used to describe the population of a predator-prey system. If we use x to represent the population density of the prey animal, and y to represent the population density of the predator, then the equations describing the model are:\n",
    "\n",
    "$$dx/dt = \\alpha x - \\beta xy$$\n",
    "$$dy/dt = \\delta xy - \\gamma y$$\n",
    "\n",
    "where $\\alpha$ describes the birth rate of the prety, $\\beta$ the effect of the predator on the preys growth rate, $\\delta$ the predator's death rate, and $\\gamma$ the effect of the prey on the predators growth rate. \n",
    "\n",
    "<h3> Exercise 4</h3>\n",
    "\n",
    "Write a program to solve the Lotka-Volterra system. When run from the terminal, your code should use sensible default values to solve the equation, producing a plot to show the output."
   ]
  },
  {
   "cell_type": "code",
   "execution_count": null,
   "id": "cbfd0356-8629-43ce-8619-fe239175d09b",
   "metadata": {},
   "outputs": [],
   "source": []
  }
 ],
 "metadata": {
  "kernelspec": {
   "display_name": "Python 3 (ipykernel)",
   "language": "python",
   "name": "python3"
  },
  "language_info": {
   "codemirror_mode": {
    "name": "ipython",
    "version": 3
   },
   "file_extension": ".py",
   "mimetype": "text/x-python",
   "name": "python",
   "nbconvert_exporter": "python",
   "pygments_lexer": "ipython3",
   "version": "3.9.10"
  }
 },
 "nbformat": 4,
 "nbformat_minor": 5
}
